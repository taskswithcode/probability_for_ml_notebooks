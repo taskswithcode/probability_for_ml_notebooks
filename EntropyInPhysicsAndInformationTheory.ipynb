{
  "nbformat": 4,
  "nbformat_minor": 0,
  "metadata": {
    "colab": {
      "name": "ProbForML_1.ipynb",
      "provenance": [],
      "include_colab_link": true
    },
    "kernelspec": {
      "name": "python3",
      "display_name": "Python 3"
    },
    "language_info": {
      "name": "python"
    }
  },
  "cells": [
    {
      "cell_type": "markdown",
      "metadata": {
        "id": "view-in-github",
        "colab_type": "text"
      },
      "source": [
        "<a href=\"https://colab.research.google.com/github/taskswithcode/probability_for_ml_notebooks/blob/main/EntropyInPhysicsAndInformationTheory.ipynb\" target=\"_parent\"><img src=\"https://colab.research.google.com/assets/colab-badge.svg\" alt=\"Open In Colab\"/></a>"
      ]
    },
    {
      "cell_type": "markdown",
      "source": [
        "**Entropy in Physics & Information Theory**"
      ],
      "metadata": {
        "id": "yqtpHlbk2ehd"
      }
    },
    {
      "cell_type": "markdown",
      "source": [
        "This is a notebook link for the video \"Entropy in physics and information theory - demystified \": https://youtu.be/F9YkjKoT2lw"
      ],
      "metadata": {
        "id": "wutkB5DK8uIW"
      }
    },
    {
      "cell_type": "markdown",
      "source": [
        "### Toy model to illustrate the difference between entropy in Physics and Information theory\n"
      ],
      "metadata": {
        "id": "Tx02cE-HC6il"
      }
    },
    {
      "cell_type": "markdown",
      "source": [
        "### 1.  Create a chamber"
      ],
      "metadata": {
        "id": "2PVhRppdQmdp"
      }
    },
    {
      "cell_type": "code",
      "source": [
        "import numpy as np\n",
        "import matplotlib.pyplot as plt\n",
        "from scipy.stats import entropy\n",
        "import math\n",
        "\n",
        "\n",
        "\n",
        "# Define how the gas particles disperse in one time step\n",
        "def disperse(chamber):\n",
        "    new_chamber = np.zeros((4, 4))\n",
        "    for i in range(4):\n",
        "        for j in range(4):\n",
        "            # Disperse particles to the neighboring squares\n",
        "            for di, dj in [(-1, 0), (1, 0), (0, -1), (0, 1)]:\n",
        "                if 0 <= i+di < 4 and 0 <= j+dj < 4:\n",
        "                    new_chamber[i+di, j+dj] += chamber[i, j] / 5\n",
        "            # Keep some particles in the current square\n",
        "            new_chamber[i, j] += chamber[i, j] / 5\n",
        "    return new_chamber"
      ],
      "metadata": {
        "id": "4ZEz5mlaDpxY"
      },
      "execution_count": 1,
      "outputs": []
    },
    {
      "cell_type": "markdown",
      "source": [
        "### 2. Initial state where all the molecules are on one side\n",
        "\n"
      ],
      "metadata": {
        "id": "f5QgvnGeIikv"
      }
    },
    {
      "cell_type": "code",
      "source": [
        "chamber = np.zeros((4, 4)) #define chamber\n",
        "\n",
        "\n",
        "chamber[0, -1] = 100 # Initially, all gas particles are in the top-right square"
      ],
      "metadata": {
        "id": "r2ht8A5CbNCJ"
      },
      "execution_count": 4,
      "outputs": []
    },
    {
      "cell_type": "code",
      "source": [
        "# Calculate the initial entropies\n",
        "initial_entropy_physics = math.log(math.factorial(int(np.sum(chamber))))\n",
        "initial_entropy_info_theory = entropy(chamber.flatten()/np.sum(chamber), base=2)\n",
        "\n",
        "# Plot initial state\n",
        "plt.figure(figsize=(12, 6))\n",
        "plt.subplot(121)\n",
        "plt.imshow(chamber, cmap='hot', interpolation='nearest')\n",
        "plt.title(f'Initial State\\nPhysics Entropy = {initial_entropy_physics:.2f}\\n'\n",
        "          f'Info Theory Entropy = {initial_entropy_info_theory:.2f}')"
      ],
      "metadata": {
        "id": "X76dBdUMbYRp",
        "outputId": "a622a1b1-8f0d-4495-9995-c238720093fd",
        "colab": {
          "base_uri": "https://localhost:8080/",
          "height": 565
        }
      },
      "execution_count": 5,
      "outputs": [
        {
          "output_type": "execute_result",
          "data": {
            "text/plain": [
              "Text(0.5, 1.0, 'Initial State\\nPhysics Entropy = 363.74\\nInfo Theory Entropy = 0.00')"
            ]
          },
          "metadata": {},
          "execution_count": 5
        },
        {
          "output_type": "display_data",
          "data": {
            "text/plain": [
              "<Figure size 1200x600 with 1 Axes>"
            ],
            "image/png": "[encoded data removed]"
          },
          "metadata": {}
        }
      ]
    },
    {
      "cell_type": "markdown",
      "source": [
        "In the visualizations, the color represents the concentration of gas particles in each cell of the chamber. The color scheme used here is the \"hot\" colormap from Matplotlib, which goes from black through red to white.\n",
        "\n",
        "Darker cells (closer to black) have fewer gas particles. Lighter cells (closer to white) have more gas particles. In the initial state, all the gas particles are concentrated in one cell, so it is the lightest, while all other cells are black. In the final state, the gas particles have dispersed, so the colors are more evenly distributed (below figure), reflecting that the gas particles are more evenly distributed throughout the chamber."
      ],
      "metadata": {
        "id": "n9jpKMuvcgAx"
      }
    },
    {
      "cell_type": "markdown",
      "source": [
        "### 2. Dispersed state"
      ],
      "metadata": {
        "id": "yWBBzsRbbcyb"
      }
    },
    {
      "cell_type": "code",
      "source": [
        "# Define how the gas particles disperse in one time step\n",
        "def disperse(chamber):\n",
        "    new_chamber = np.zeros((4, 4))\n",
        "    for i in range(4):\n",
        "        for j in range(4):\n",
        "            # Disperse particles to the neighboring squares\n",
        "            for di, dj in [(-1, 0), (1, 0), (0, -1), (0, 1)]:\n",
        "                if 0 <= i+di < 4 and 0 <= j+dj < 4:\n",
        "                    new_chamber[i+di, j+dj] += chamber[i, j] / 5\n",
        "            # Keep some particles in the current square\n",
        "            new_chamber[i, j] += chamber[i, j] / 5\n",
        "    return new_chamber"
      ],
      "metadata": {
        "id": "vSk2TioSbk0w"
      },
      "execution_count": 6,
      "outputs": []
    },
    {
      "cell_type": "code",
      "source": [
        "# Disperse the gas particles over time\n",
        "for _ in range(5):\n",
        "    chamber = disperse(chamber)\n",
        "\n",
        "# Calculate the entropy after dispersing\n",
        "final_entropy_physics = math.log(math.factorial(int(np.sum(chamber))))\n",
        "final_entropy_info_theory = entropy(chamber.flatten()/np.sum(chamber), base=2)\n",
        "\n",
        "# Plot final state\n",
        "plt.subplot(122)\n",
        "plt.imshow(chamber, cmap='hot', interpolation='nearest')\n",
        "plt.title(f'Final State\\nPhysics Entropy = {final_entropy_physics:.2f}\\n'\n",
        "          f'Info Theory Entropy = {final_entropy_info_theory:.2f}')\n",
        "\n"
      ],
      "metadata": {
        "id": "NSFqLJJcbqZ4",
        "outputId": "97579f82-f047-4e8d-b452-6af6d2363412",
        "colab": {
          "base_uri": "https://localhost:8080/",
          "height": 368
        }
      },
      "execution_count": 7,
      "outputs": [
        {
          "output_type": "execute_result",
          "data": {
            "text/plain": [
              "Text(0.5, 1.0, 'Final State\\nPhysics Entropy = 51.61\\nInfo Theory Entropy = 3.61')"
            ]
          },
          "metadata": {},
          "execution_count": 7
        },
        {
          "output_type": "display_data",
          "data": {
            "text/plain": [
              "<Figure size 640x480 with 1 Axes>"
            ],
            "image/png": "[encoded data removed]"
          },
          "metadata": {}
        }
      ]
    },
    {
      "cell_type": "markdown",
      "source": [
        "The visualizations are of the initial and final states of the gas particles in the chamber, along with their corresponding entropy values.\n",
        "\n",
        "In the visualizations, the color represents the concentration of gas particles in each cell of the chamber. The color scheme used here is the \"hot\" colormap from Matplotlib, which goes from black through red to white.\n",
        "\n",
        "Darker cells (closer to black) have fewer gas particles.\n",
        "Lighter cells (closer to white) have more gas particles.\n",
        "In the initial state, all the gas particles are concentrated in one cell, so it is the lightest, while all other cells are black. In the final state, the gas particles have dispersed, so the colors are more evenly distributed, reflecting that the gas particles are more evenly distributed throughout the chamber.\n",
        "\n",
        "In the initial state, all the particles are concentrated in one cell, and in the final state, they are dispersed throughout the chamber.\n",
        "\n",
        "The entropy in physics decreases from 363.74 to 51.61 as the gas particles disperse, since there are fewer arrangements for the particles when they are dispersed.\n",
        "\n",
        "The entropy in information theory increases from 0.00 to 3.61 as the gas particles disperse, because the dispersion of particles makes the system less predictable, hence more information is needed to describe the state.\n",
        "\n",
        "This helps illustrate the contrast between entropy in physics and information theory: in physics, entropy decreases as a system becomes more uniform, whereas in information theory, entropy increases as a system becomes less predictable.\n",
        "\n"
      ],
      "metadata": {
        "id": "GW94vAv2b-aY"
      }
    },
    {
      "cell_type": "code",
      "source": [],
      "metadata": {
        "id": "R8gm6bMTcBIR"
      },
      "execution_count": null,
      "outputs": []
    }
  ]
}