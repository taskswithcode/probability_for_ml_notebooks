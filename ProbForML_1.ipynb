{
  "nbformat": 4,
  "nbformat_minor": 0,
  "metadata": {
    "colab": {
      "name": "ProbForML_1.ipynb",
      "provenance": [],
      "include_colab_link": true
    },
    "kernelspec": {
      "name": "python3",
      "display_name": "Python 3"
    },
    "language_info": {
      "name": "python"
    }
  },
  "cells": [
    {
      "cell_type": "markdown",
      "metadata": {
        "id": "view-in-github",
        "colab_type": "text"
      },
      "source": [
        "<a href=\"https://colab.research.google.com/github/taskswithcode/probability_for_ml_notebooks/blob/main/ProbForML_1.ipynb\" target=\"_parent\"><img src=\"https://colab.research.google.com/assets/colab-badge.svg\" alt=\"Open In Colab\"/></a>"
      ]
    },
    {
      "cell_type": "markdown",
      "source": [
        "**Notebook for Probability for Machine Learning - Part 1**"
      ],
      "metadata": {
        "id": "yqtpHlbk2ehd"
      }
    },
    {
      "cell_type": "markdown",
      "source": [
        "- [This is a notebook link for the Youtube video - Probability for Machine Learning -1](https://youtu.be/6SrH0OQca7Y)\n",
        "- [And the short A less known fact about computing averages](https://youtube.com/shorts/EQgqIqY3fPk?feature=share)"
      ],
      "metadata": {
        "id": "9aUCNqH1ruQ0"
      }
    },
    {
      "cell_type": "markdown",
      "source": [
        "### Experimental observations from an experiment\n"
      ],
      "metadata": {
        "id": "Tx02cE-HC6il"
      }
    },
    {
      "cell_type": "code",
      "source": [
        "#A sample set of observations from an experiment\n",
        "numbers = [2, 4, 3, 1, 1, 1, 6, 5, 1, 1, 3, 2, 5, 4, 1, 5, 3, 2, 1, 1]\n",
        "len(numbers)"
      ],
      "metadata": {
        "id": "GbbcmyzxDEzC",
        "outputId": "83b1e498-ff8e-4268-8e80-4b313f1336a9",
        "colab": {
          "base_uri": "https://localhost:8080/"
        }
      },
      "execution_count": 21,
      "outputs": [
        {
          "output_type": "execute_result",
          "data": {
            "text/plain": [
              "20"
            ]
          },
          "metadata": {},
          "execution_count": 21
        }
      ]
    },
    {
      "cell_type": "markdown",
      "source": [
        "### 1. Computing average the well known way"
      ],
      "metadata": {
        "id": "2PVhRppdQmdp"
      }
    },
    {
      "cell_type": "code",
      "source": [
        "def average(numbers):\n",
        "    return sum(numbers) / len(numbers)\n",
        "print(f\"Average as sum of observations divided by count of observations: {average(numbers)}\")"
      ],
      "metadata": {
        "id": "4ZEz5mlaDpxY",
        "outputId": "a932f21a-17d2-4b0b-ac1c-33f49d5ed860",
        "colab": {
          "base_uri": "https://localhost:8080/"
        }
      },
      "execution_count": 22,
      "outputs": [
        {
          "output_type": "stream",
          "name": "stdout",
          "text": [
            "Average as sum of observations divided by count of observations: 2.6\n"
          ]
        }
      ]
    },
    {
      "cell_type": "markdown",
      "source": [
        "### 2. Computing average by first computing the sample probability distribution"
      ],
      "metadata": {
        "id": "f5QgvnGeIikv"
      }
    },
    {
      "cell_type": "code",
      "source": [
        "from collections import Counter\n",
        "counter = Counter(numbers)\n",
        "total_numbers = len(numbers)\n",
        "print(total_numbers)"
      ],
      "metadata": {
        "id": "DArchrx9vR0Y",
        "outputId": "ea83cc6c-e2fe-4ee4-e2a5-fe0fc0da4d77",
        "colab": {
          "base_uri": "https://localhost:8080/"
        }
      },
      "execution_count": 26,
      "outputs": [
        {
          "output_type": "stream",
          "name": "stdout",
          "text": [
            "20\n"
          ]
        }
      ]
    },
    {
      "cell_type": "code",
      "source": [
        " #Count the number of occurrences of each outcome\n",
        " frequencies = {x: count for x, count in counter.items()}\n",
        " print(f\"Event frequences:{frequencies}\")"
      ],
      "metadata": {
        "id": "Q9LvzQh_vZNa"
      },
      "execution_count": null,
      "outputs": []
    },
    {
      "cell_type": "code",
      "source": [
        "#Compute sample probability distribution\n",
        "sample_prob = [ float(freq)/total_numbers  for x, freq in frequencies.items()]\n",
        "print(f\"Sample probability distribution: {sample_prob}\")\n",
        "print(f\"Event probabilities add up to: {sum(sample_prob)}\")"
      ],
      "metadata": {
        "id": "UniujzT6vemD"
      },
      "execution_count": null,
      "outputs": []
    },
    {
      "cell_type": "code",
      "source": [
        "# compute the weighted average\n",
        "weighted_average = sum(x * (freq / total_numbers) for x, freq in frequencies.items())\n",
        "print(f\"Average by weighting each observation by its probability: {round(weighted_average,1)}\")"
      ],
      "metadata": {
        "id": "QcDhSZfisi46",
        "outputId": "cd600a94-3633-4262-9ed9-07454421219b",
        "colab": {
          "base_uri": "https://localhost:8080/"
        }
      },
      "execution_count": 25,
      "outputs": [
        {
          "output_type": "stream",
          "name": "stdout",
          "text": [
            "Average by weighting each observation by its probability: 2.6\n"
          ]
        }
      ]
    }
  ]
}