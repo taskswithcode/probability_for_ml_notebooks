{
  "nbformat": 4,
  "nbformat_minor": 0,
  "metadata": {
    "colab": {
      "name": "ProbForML_1.ipynb",
      "provenance": [],
      "include_colab_link": true
    },
    "kernelspec": {
      "name": "python3",
      "display_name": "Python 3"
    },
    "language_info": {
      "name": "python"
    }
  },
  "cells": [
    {
      "cell_type": "markdown",
      "metadata": {
        "id": "view-in-github",
        "colab_type": "text"
      },
      "source": [
        "<a href=\"https://colab.research.google.com/github/taskswithcode/probability_for_ml_notebooks/blob/main/ProbForML_1.ipynb\" target=\"_parent\"><img src=\"https://colab.research.google.com/assets/colab-badge.svg\" alt=\"Open In Colab\"/></a>"
      ]
    },
    {
      "cell_type": "markdown",
      "source": [
        "**Notebook for Probability for Machine Learning - Part 1**"
      ],
      "metadata": {
        "id": "yqtpHlbk2ehd"
      }
    },
    {
      "cell_type": "markdown",
      "source": [
        "- [This is a notebook link for the Youtube video - A less known fact about computing averages](https://youtu.be/6SrH0OQca7Y)\n",
        "- [And the short with the same title](https://youtube.com/shorts/EQgqIqY3fPk?feature=share)\n",
        "- [Code walkthrough of this notebook](https://youtu.be/QuFo_jWrbyE)"
      ],
      "metadata": {
        "id": "9aUCNqH1ruQ0"
      }
    },
    {
      "cell_type": "markdown",
      "source": [
        "*The goal of this notebook is to illustrate*\n",
        "\n",
        "  whenever we are computing the **average** of **observed outcomes** of an experiment, we are also **estimating** the **underlying probability distribution of all outcomes**"
      ],
      "metadata": {
        "id": "-3s8ijBMCC0s"
      }
    },
    {
      "cell_type": "markdown",
      "source": [
        "### We start with some observed outcomes from an experiment\n"
      ],
      "metadata": {
        "id": "Tx02cE-HC6il"
      }
    },
    {
      "cell_type": "code",
      "source": [
        "#A sample set of observations from an experiment\n",
        "numbers = [2, 4, 3, 1, 1, 1, 6, 5, 1, 1, 3, 2, 5, 4, 1, 5, 3, 2, 1, 1]\n",
        "len(numbers)"
      ],
      "metadata": {
        "id": "GbbcmyzxDEzC",
        "outputId": "bcaaaf87-0218-4c39-aeb7-b5fef528f724",
        "colab": {
          "base_uri": "https://localhost:8080/"
        }
      },
      "execution_count": null,
      "outputs": [
        {
          "output_type": "execute_result",
          "data": {
            "text/plain": [
              "20"
            ]
          },
          "metadata": {},
          "execution_count": 27
        }
      ]
    },
    {
      "cell_type": "markdown",
      "source": [
        "### 1. We first compute average the way we normally do"
      ],
      "metadata": {
        "id": "2PVhRppdQmdp"
      }
    },
    {
      "cell_type": "code",
      "source": [
        "def average(numbers):\n",
        "    return sum(numbers) / len(numbers)\n",
        "print(f\"Average as sum of observations divided by count of observations: {average(numbers)}\")"
      ],
      "metadata": {
        "id": "4ZEz5mlaDpxY",
        "outputId": "6bd65bdf-bef7-4696-9957-1de9e6dfd49f",
        "colab": {
          "base_uri": "https://localhost:8080/"
        }
      },
      "execution_count": null,
      "outputs": [
        {
          "output_type": "stream",
          "name": "stdout",
          "text": [
            "Average as sum of observations divided by count of observations: 2.6\n"
          ]
        }
      ]
    },
    {
      "cell_type": "markdown",
      "source": [
        "### 2. We then compute the average by estimating the underlying probability distribution"
      ],
      "metadata": {
        "id": "f5QgvnGeIikv"
      }
    },
    {
      "cell_type": "code",
      "source": [
        "from collections import Counter\n",
        "counter = Counter(numbers)\n",
        "total_numbers = len(numbers)\n",
        "print(total_numbers)"
      ],
      "metadata": {
        "id": "DArchrx9vR0Y",
        "outputId": "a5974af9-7697-471c-bdb7-5d61c0513ee1",
        "colab": {
          "base_uri": "https://localhost:8080/"
        }
      },
      "execution_count": null,
      "outputs": [
        {
          "output_type": "stream",
          "name": "stdout",
          "text": [
            "20\n"
          ]
        }
      ]
    },
    {
      "cell_type": "code",
      "source": [
        " #Count the number of occurrences of each outcome\n",
        " frequencies = {x: count for x, count in counter.items()}\n",
        " print(f\"Event frequences:{frequencies}\")"
      ],
      "metadata": {
        "id": "Q9LvzQh_vZNa",
        "outputId": "ea018fc7-2653-4f93-8318-236669aad21c",
        "colab": {
          "base_uri": "https://localhost:8080/"
        }
      },
      "execution_count": null,
      "outputs": [
        {
          "output_type": "stream",
          "name": "stdout",
          "text": [
            "Event frequences:{2: 3, 4: 2, 3: 3, 1: 8, 6: 1, 5: 3}\n"
          ]
        }
      ]
    },
    {
      "cell_type": "code",
      "source": [
        "#Compute sample probability distribution\n",
        "sample_prob = [ float(freq)/total_numbers  for x, freq in frequencies.items()]\n",
        "print(f\"Sample probability distribution: {sample_prob}\")\n",
        "print(f\"Event probabilities add up to: {sum(sample_prob)}\")"
      ],
      "metadata": {
        "id": "UniujzT6vemD",
        "outputId": "e92da1b4-bfaf-4df4-a176-06cf796de2c2",
        "colab": {
          "base_uri": "https://localhost:8080/"
        }
      },
      "execution_count": null,
      "outputs": [
        {
          "output_type": "stream",
          "name": "stdout",
          "text": [
            "Sample probability distribution: [0.15, 0.1, 0.15, 0.4, 0.05, 0.15]\n",
            "Event probabilities add up to: 1.0\n"
          ]
        }
      ]
    },
    {
      "cell_type": "code",
      "source": [
        "# compute the weighted average\n",
        "weighted_average = sum(x * (freq / total_numbers) for x, freq in frequencies.items())\n",
        "print(f\"Average by weighting each observation by its probability: {round(weighted_average,1)}\")"
      ],
      "metadata": {
        "id": "QcDhSZfisi46",
        "outputId": "e8879784-16ed-4660-9892-b467c6fad8c6",
        "colab": {
          "base_uri": "https://localhost:8080/"
        }
      },
      "execution_count": null,
      "outputs": [
        {
          "output_type": "stream",
          "name": "stdout",
          "text": [
            "Average by weighting each observation by its probability: 2.6\n"
          ]
        }
      ]
    },
    {
      "cell_type": "markdown",
      "source": [
        "Both computations yield the **same value for average** but the second approach gives us more insight - we estimate the **underlying probability distribution**"
      ],
      "metadata": {
        "id": "ft1lAdKKEjs7"
      }
    }
  ]
}