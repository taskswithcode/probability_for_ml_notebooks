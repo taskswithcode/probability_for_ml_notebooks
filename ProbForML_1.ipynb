{
  "nbformat": 4,
  "nbformat_minor": 0,
  "metadata": {
    "colab": {
      "name": "ProbForML_1.ipynb",
      "provenance": [],
      "include_colab_link": true
    },
    "kernelspec": {
      "name": "python3",
      "display_name": "Python 3"
    },
    "language_info": {
      "name": "python"
    }
  },
  "cells": [
    {
      "cell_type": "markdown",
      "metadata": {
        "id": "view-in-github",
        "colab_type": "text"
      },
      "source": [
        "<a href=\"https://colab.research.google.com/github/taskswithcode/probability_for_ml_notebooks/blob/main/ProbForML_1.ipynb\" target=\"_parent\"><img src=\"https://colab.research.google.com/assets/colab-badge.svg\" alt=\"Open In Colab\"/></a>"
      ]
    },
    {
      "cell_type": "markdown",
      "source": [
        "**Notebook for Probability for Machine Learning - Part 1**"
      ],
      "metadata": {
        "id": "yqtpHlbk2ehd"
      }
    },
    {
      "cell_type": "markdown",
      "source": [
        "- [This is a notebook link for the Youtube video - Probability for Machine Learning -1](https://youtu.be/6SrH0OQca7Y)\n",
        "- [And the short A less known fact about computing averages](https://youtube.com/shorts/EQgqIqY3fPk?feature=share)"
      ],
      "metadata": {
        "id": "9aUCNqH1ruQ0"
      }
    },
    {
      "cell_type": "markdown",
      "source": [
        "### Experimental observations from an experiment\n"
      ],
      "metadata": {
        "id": "Tx02cE-HC6il"
      }
    },
    {
      "cell_type": "code",
      "source": [
        "#A sample set of observations from an experiment\n",
        "numbers = [2, 4, 3, 1, 1, 1, 6, 5, 1, 1, 3, 2, 5, 4, 1, 5, 3, 2, 1, 1]\n",
        "len(numbers)"
      ],
      "metadata": {
        "id": "GbbcmyzxDEzC",
        "outputId": "21a0104b-3736-4f34-96ad-366243782e1b",
        "colab": {
          "base_uri": "https://localhost:8080/"
        }
      },
      "execution_count": 12,
      "outputs": [
        {
          "output_type": "execute_result",
          "data": {
            "text/plain": [
              "20"
            ]
          },
          "metadata": {},
          "execution_count": 12
        }
      ]
    },
    {
      "cell_type": "markdown",
      "source": [
        "### 1. Computing average the well known way"
      ],
      "metadata": {
        "id": "2PVhRppdQmdp"
      }
    },
    {
      "cell_type": "code",
      "source": [
        "def average(numbers):\n",
        "    return sum(numbers) / len(numbers)"
      ],
      "metadata": {
        "id": "4ZEz5mlaDpxY"
      },
      "execution_count": 13,
      "outputs": []
    },
    {
      "cell_type": "code",
      "source": [
        "print(f\"Average as sum of observations divided by count of observations: {average(numbers)}\")"
      ],
      "metadata": {
        "id": "QuvVjX6KDwZN",
        "outputId": "7cec6752-e650-4640-9cc1-c262ed7f39fb",
        "colab": {
          "base_uri": "https://localhost:8080/"
        }
      },
      "execution_count": 14,
      "outputs": [
        {
          "output_type": "stream",
          "name": "stdout",
          "text": [
            "Average as sum of observations divided by count of observations: 2.6\n"
          ]
        }
      ]
    },
    {
      "cell_type": "markdown",
      "source": [
        "### 2. Computing average by first computing the sample probability distribution"
      ],
      "metadata": {
        "id": "f5QgvnGeIikv"
      }
    },
    {
      "cell_type": "code",
      "source": [
        "from collections import Counter\n",
        "counter = Counter(numbers)\n",
        "total_numbers = len(numbers)"
      ],
      "metadata": {
        "id": "DArchrx9vR0Y"
      },
      "execution_count": 15,
      "outputs": []
    },
    {
      "cell_type": "code",
      "source": [
        " #Count the number of occurrences of each outcome\n",
        " frequencies = {x: count for x, count in counter.items()}\n",
        " print(f\"Event frequences:{frequencies}\")"
      ],
      "metadata": {
        "id": "Q9LvzQh_vZNa",
        "outputId": "a04cb4a2-d6a4-4981-ae39-cf8418a28ea1",
        "colab": {
          "base_uri": "https://localhost:8080/"
        }
      },
      "execution_count": 16,
      "outputs": [
        {
          "output_type": "stream",
          "name": "stdout",
          "text": [
            "Event frequences:{2: 3, 4: 2, 3: 3, 1: 8, 6: 1, 5: 3}\n"
          ]
        }
      ]
    },
    {
      "cell_type": "code",
      "source": [
        "#Compute sample probability distribution\n",
        "sample_prob = [ float(freq)/total_numbers  for x, freq in frequencies.items()]\n",
        "print(f\"Sample probability distribution: {sample_prob}\")\n",
        "print(f\"Event probabilities add up to: {sum(sample_prob)}\")"
      ],
      "metadata": {
        "id": "UniujzT6vemD",
        "outputId": "88528654-4661-4f0c-d04f-4891310ffd4d",
        "colab": {
          "base_uri": "https://localhost:8080/"
        }
      },
      "execution_count": 17,
      "outputs": [
        {
          "output_type": "stream",
          "name": "stdout",
          "text": [
            "Sample probability distribution: [0.15, 0.1, 0.15, 0.4, 0.05, 0.15]\n",
            "Event probabilities add up to: 1.0\n"
          ]
        }
      ]
    },
    {
      "cell_type": "code",
      "source": [
        "# compute the weighted average\n",
        "weighted_average = sum(x * (freq / total_numbers) for x, freq in frequencies.items())\n",
        "print(f\"Average by weighting each observation by its probability: {round(weighted_average,1)}\")"
      ],
      "metadata": {
        "id": "QcDhSZfisi46",
        "outputId": "86a674c5-b0c0-491f-b6d3-9f76cae2cf70",
        "colab": {
          "base_uri": "https://localhost:8080/"
        }
      },
      "execution_count": 18,
      "outputs": [
        {
          "output_type": "stream",
          "name": "stdout",
          "text": [
            "Average by weighting each observation by its probability: 2.6\n"
          ]
        }
      ]
    }
  ]
}