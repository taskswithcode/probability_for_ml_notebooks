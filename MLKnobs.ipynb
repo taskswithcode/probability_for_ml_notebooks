{
  "nbformat": 4,
  "nbformat_minor": 0,
  "metadata": {
    "colab": {
      "name": "MLKnobs.ipynb",
      "provenance": [],
      "include_colab_link": true
    },
    "kernelspec": {
      "name": "python3",
      "display_name": "Python 3"
    },
    "language_info": {
      "name": "python"
    }
  },
  "cells": [
    {
      "cell_type": "markdown",
      "metadata": {
        "id": "view-in-github",
        "colab_type": "text"
      },
      "source": [
        "<a href=\"https://colab.research.google.com/github/taskswithcode/probability_for_ml_notebooks/blob/main/MLKnobs.ipynb\" target=\"_parent\"><img src=\"https://colab.research.google.com/assets/colab-badge.svg\" alt=\"Open In Colab\"/></a>"
      ]
    },
    {
      "cell_type": "markdown",
      "source": [
        "**Intuition for how Neural Networks with with just arithmetic**"
      ],
      "metadata": {
        "id": "yqtpHlbk2ehd"
      }
    },
    {
      "cell_type": "markdown",
      "source": [
        "#### 1. A function with three **knobs (variables)** that control the output value"
      ],
      "metadata": {
        "id": "2PVhRppdQmdp"
      }
    },
    {
      "cell_type": "code",
      "source": [
        "a = 2\n",
        "b = -3\n",
        "c = 10\n",
        "func = a * b + c\n",
        "func"
      ],
      "metadata": {
        "id": "W59Qt3A2zwT8",
        "outputId": "2fd32a9a-31ed-494d-9e53-ef3cad9058bd",
        "colab": {
          "base_uri": "https://localhost:8080/"
        }
      },
      "execution_count": 37,
      "outputs": [
        {
          "output_type": "execute_result",
          "data": {
            "text/plain": [
              "4"
            ]
          },
          "metadata": {},
          "execution_count": 37
        }
      ]
    },
    {
      "cell_type": "markdown",
      "source": [
        "##### We are first going to increase these knobs individually by a fixed value **h**"
      ],
      "metadata": {
        "id": "1BYTcWMdz08A"
      }
    },
    {
      "cell_type": "code",
      "source": [
        "h = .0001"
      ],
      "metadata": {
        "id": "Zg44i3VczzrA"
      },
      "execution_count": 38,
      "outputs": []
    },
    {
      "cell_type": "markdown",
      "source": [
        "###### Lets increase **variable a** first and see how the function responds"
      ],
      "metadata": {
        "id": "3wz1XqWM1GXD"
      }
    },
    {
      "cell_type": "code",
      "source": [
        "d1 = a*b+c\n",
        "print(a,a+h)\n",
        "a = a + h\n",
        "d2 = a*b + c\n",
        "print(d1,d2)"
      ],
      "metadata": {
        "id": "ge0sJNIr0Btk",
        "outputId": "f5f8356a-9b47-467f-c339-349d92e243d0",
        "colab": {
          "base_uri": "https://localhost:8080/"
        }
      },
      "execution_count": 39,
      "outputs": [
        {
          "output_type": "stream",
          "name": "stdout",
          "text": [
            "2 2.0001\n",
            "4 3.999699999999999\n"
          ]
        }
      ]
    },
    {
      "cell_type": "markdown",
      "source": [
        "*When we **increased variable a** by a tiny amount **h**, the function output went **down** a little. So **increasing variable a decreases** output*"
      ],
      "metadata": {
        "id": "dYxgxRw90R-v"
      }
    },
    {
      "cell_type": "code",
      "source": [
        "grada = (d2-d1)/h\n",
        "grada"
      ],
      "metadata": {
        "id": "S-xLmoGm0dJ0",
        "outputId": "2d60df57-c9fc-41ff-8eee-ac1185a8ef13",
        "colab": {
          "base_uri": "https://localhost:8080/"
        }
      },
      "execution_count": 40,
      "outputs": [
        {
          "output_type": "execute_result",
          "data": {
            "text/plain": [
              "-3.000000000010772"
            ]
          },
          "metadata": {},
          "execution_count": 40
        }
      ]
    },
    {
      "cell_type": "markdown",
      "source": [
        "*This value captures the **rate of change** of function output when we increased the value of **variable a**. We will use it below*"
      ],
      "metadata": {
        "id": "n1Did-qq0ijf"
      }
    },
    {
      "cell_type": "markdown",
      "source": [
        "###### Lets increase **variable b** and see how the function responds"
      ],
      "metadata": {
        "id": "t-sliC4B26Mx"
      }
    },
    {
      "cell_type": "code",
      "source": [
        "d1 = a*b+c\n",
        "print(b,b+h)\n",
        "b = b + h\n",
        "d2 = a*b + c\n",
        "print(d1,d2)"
      ],
      "metadata": {
        "id": "05UrpU0i3AhM",
        "outputId": "32ab5ca9-2c0b-4765-dbe5-596ba74526f6",
        "colab": {
          "base_uri": "https://localhost:8080/"
        }
      },
      "execution_count": 41,
      "outputs": [
        {
          "output_type": "stream",
          "name": "stdout",
          "text": [
            "-3 -2.9999\n",
            "3.999699999999999 3.99990001\n"
          ]
        }
      ]
    },
    {
      "cell_type": "markdown",
      "source": [
        "*When we **increased variable b** by a tiny amount **h**, the function output went **up** a little. So **increasing variable b increases** output*"
      ],
      "metadata": {
        "id": "vAeZZQWK3fct"
      }
    },
    {
      "cell_type": "code",
      "source": [
        "gradb = (d2-d1)/h\n",
        "gradb"
      ],
      "metadata": {
        "id": "69Y191k85NKV",
        "outputId": "55a684d0-8947-48be-a8e2-52fa8f017182",
        "colab": {
          "base_uri": "https://localhost:8080/"
        }
      },
      "execution_count": 42,
      "outputs": [
        {
          "output_type": "execute_result",
          "data": {
            "text/plain": [
              "2.0001000000124947"
            ]
          },
          "metadata": {},
          "execution_count": 42
        }
      ]
    },
    {
      "cell_type": "markdown",
      "source": [
        "*This value captures the **rate of change** of function output when we increased the value of **variable b**. We will use it below*"
      ],
      "metadata": {
        "id": "rLw7r9za5SOp"
      }
    },
    {
      "cell_type": "markdown",
      "source": [
        "###### Lets increase **variable c** and see how the function responds"
      ],
      "metadata": {
        "id": "xzAanbVc4jyi"
      }
    },
    {
      "cell_type": "code",
      "source": [
        "d1 = a*b+c\n",
        "print(c,c+h)\n",
        "c = c + h\n",
        "d2 = a*b + c\n",
        "print(d1,d2)"
      ],
      "metadata": {
        "id": "Bhq4kLIk4mqb",
        "outputId": "3daeb94c-8646-4e99-c149-7d23f5a4c23e",
        "colab": {
          "base_uri": "https://localhost:8080/"
        }
      },
      "execution_count": 43,
      "outputs": [
        {
          "output_type": "stream",
          "name": "stdout",
          "text": [
            "10 10.0001\n",
            "3.99990001 4.00000001\n"
          ]
        }
      ]
    },
    {
      "cell_type": "markdown",
      "source": [
        "*When we **increased variable c** by a tiny amount **h**, the function output went **up** by same amount. So **increasing variable c increases** output*"
      ],
      "metadata": {
        "id": "UzTDhfNF4wCW"
      }
    },
    {
      "cell_type": "code",
      "source": [
        "gradc = (d2-d1)/h\n",
        "gradc"
      ],
      "metadata": {
        "id": "Fq_Wf_oQ54Hu",
        "outputId": "f5d33401-77c7-4d84-8e34-a444e5b02029",
        "colab": {
          "base_uri": "https://localhost:8080/"
        }
      },
      "execution_count": 44,
      "outputs": [
        {
          "output_type": "execute_result",
          "data": {
            "text/plain": [
              "0.9999999999976694"
            ]
          },
          "metadata": {},
          "execution_count": 44
        }
      ]
    },
    {
      "cell_type": "code",
      "source": [],
      "metadata": {
        "id": "HQfdtVUiABmE"
      },
      "execution_count": 44,
      "outputs": []
    },
    {
      "cell_type": "markdown",
      "source": [
        "*This value captures the **rate of change** of function output when we increased the value of **variable c**. We will use it below*"
      ],
      "metadata": {
        "id": "G0C2NUzv59P0"
      }
    },
    {
      "cell_type": "markdown",
      "source": [
        "##### When we **increased two knobs (b and c)** the output went **up**, whereas when we **increased  knob a** the output went **down**.\n",
        "\n",
        "How can we know ***which direction to turn the knobs*** so the function output ***increases*** (or decreases) ?\n",
        "\n",
        "The rate of change of the function we calculated above ***(grada,gradb,gradc)*** with respect to each variable is useful for this.\n",
        "\n",
        "The ***rate of change of a function*** with respect to a variable is often called ***gradient or slope of the function*** with respect to that variable.***\n"
      ],
      "metadata": {
        "id": "FaJHbt5P6yml"
      }
    },
    {
      "cell_type": "markdown",
      "source": [
        "##### We are now going to **increase** these knobs individually by a small fraction of the gradients computed above"
      ],
      "metadata": {
        "id": "vmYSyMe_8MDI"
      }
    },
    {
      "cell_type": "code",
      "source": [
        "lr = .01 #this is the fraction of the gradients we are going to take"
      ],
      "metadata": {
        "id": "ynMOOGZ-8Zj2"
      },
      "execution_count": 45,
      "outputs": []
    },
    {
      "cell_type": "markdown",
      "source": [
        "###### Lets add a fraction of the gradient **grada** to  **variable a**  and see how the function responds"
      ],
      "metadata": {
        "id": "Dz8r0r9tFP9l"
      }
    },
    {
      "cell_type": "code",
      "source": [
        "a = 2\n",
        "b = -3\n",
        "c = 10\n",
        "lr = .01\n",
        "d1 = a*b + c\n",
        "print(grada) # we calculated this earlier\n",
        "print(f\"Original value of a: {a};  Value of a after adding a fraction of the gradient to it: {a+lr*grada}\")\n",
        "a = a + lr*grada #We increase \"a\" by a small fraction of the gradient\n",
        "d2 = a*b + c\n",
        "print(d1,d2)"
      ],
      "metadata": {
        "id": "gAmngXXw8roj",
        "outputId": "69e2a469-a40a-467c-8a1c-9da6b4d1e5ef",
        "colab": {
          "base_uri": "https://localhost:8080/"
        }
      },
      "execution_count": 46,
      "outputs": [
        {
          "output_type": "stream",
          "name": "stdout",
          "text": [
            "-3.000000000010772\n",
            "Original value of a: 2;  Value of a after adding a fraction of the gradient to it: 1.9699999999998923\n",
            "4 4.090000000000323\n"
          ]
        }
      ]
    },
    {
      "cell_type": "markdown",
      "source": [
        "###### The output goes **up** when we increase **knob a** by a small fraction of the gradient **grada**. Note, the output when **down** before when we **increased a** by a small amount h. The reason it goes up now when we increase it by a small fraction of the gradient is, when we are adding a fraction of the gradient to **a**, we are **effectively decreasing the value of a**.\n",
        "See the value of **a** before and after adding the *fraction of the gradient* - it goes down from 2 to 1.9699999999998923"
      ],
      "metadata": {
        "id": "ZrpsoTBFCxz2"
      }
    },
    {
      "cell_type": "markdown",
      "source": [
        "###### Lets add a fraction of the gradient **gradb** to  **variable b**  and see how the function responds"
      ],
      "metadata": {
        "id": "pspxlRP6Fpy6"
      }
    },
    {
      "cell_type": "code",
      "source": [
        "a = 2\n",
        "b = -3\n",
        "c = 10\n",
        "lr = .01\n",
        "d1 = a*b + c\n",
        "print(gradb) # we calculated this earlier\n",
        "print(f\"Original value of b: {b};  Value of a after adding a fraction of the gradient to it: {b+lr*gradb}\")\n",
        "b = b + lr*gradb\n",
        "d2 = a*b + c\n",
        "print(d1,d2)"
      ],
      "metadata": {
        "id": "G54WDJwMFsUk",
        "outputId": "01c43b75-ba71-484d-db91-721ce29caa91",
        "colab": {
          "base_uri": "https://localhost:8080/"
        }
      },
      "execution_count": 47,
      "outputs": [
        {
          "output_type": "stream",
          "name": "stdout",
          "text": [
            "2.0001000000124947\n",
            "Original value of b: -3;  Value of a after adding a fraction of the gradient to it: -2.979998999999875\n",
            "4 4.04000200000025\n"
          ]
        }
      ]
    },
    {
      "cell_type": "markdown",
      "source": [
        "###### *The output goes **up** when we increase **knob b** by a small fraction of the gradient **gradb**.*"
      ],
      "metadata": {
        "id": "91mLL6cOGDk4"
      }
    },
    {
      "cell_type": "markdown",
      "source": [
        "###### Lets add a fraction of the gradient **gradc** to  **variable c**  and see how the function responds"
      ],
      "metadata": {
        "id": "7IXmWDtqGMoe"
      }
    },
    {
      "cell_type": "code",
      "source": [
        "a = 2\n",
        "b = -3\n",
        "c = 10\n",
        "lr = .01\n",
        "d1 = a*b + c\n",
        "print(gradc) # we calculated this earlier\n",
        "print(f\"Original value of c: {c};  Value of a after adding a fraction of the gradient to it: {c+lr*gradc}\")\n",
        "c = c + lr*gradc\n",
        "d2 = a*b + c\n",
        "print(d1,d2)"
      ],
      "metadata": {
        "id": "qtLaBkhYGUlv",
        "outputId": "71ea7a7f-57d9-4b75-9340-848ec7071d9c",
        "colab": {
          "base_uri": "https://localhost:8080/"
        }
      },
      "execution_count": 48,
      "outputs": [
        {
          "output_type": "stream",
          "name": "stdout",
          "text": [
            "0.9999999999976694\n",
            "Original value of c: 10;  Value of a after adding a fraction of the gradient to it: 10.009999999999977\n",
            "4 4.009999999999977\n"
          ]
        }
      ]
    },
    {
      "cell_type": "markdown",
      "source": [
        "###### *The output goes **up** when we increase **knob c** by a small fraction of the gradient **gradc**.*"
      ],
      "metadata": {
        "id": "01vr1gOOGiZm"
      }
    },
    {
      "cell_type": "markdown",
      "source": [
        "##### The function output **increased** when we **individually increased** each variable by a **fraction of the gradient** with respect to that variable"
      ],
      "metadata": {
        "id": "Vu3qPJnnNUQ2"
      }
    },
    {
      "cell_type": "markdown",
      "source": [
        "##### We are now going to **decrease** these knobs individually by a small fraction of the gradients computed above"
      ],
      "metadata": {
        "id": "UqH-SvTQHJ6N"
      }
    },
    {
      "cell_type": "markdown",
      "source": [
        "###### Lets subtract a fraction of the gradient **grada** to  **variable a**  and see how the function responds"
      ],
      "metadata": {
        "id": "nZwQsb91JtL6"
      }
    },
    {
      "cell_type": "code",
      "source": [
        "a = 2\n",
        "b = -3\n",
        "c = 10\n",
        "lr = .01\n",
        "d1 = a*b + c\n",
        "print(grada) # we calculated this earlier\n",
        "print(f\"Original value of a: {a};  Value of a after adding a fraction of the gradient to it: {a-lr*grada}\")\n",
        "a = a - lr*grada #We increase \"a\" by a small fraction of the gradient\n",
        "d2 = a*b + c\n",
        "print(d1,d2)"
      ],
      "metadata": {
        "id": "D75OKY-VIvXv",
        "outputId": "474a7b8a-a3f4-4e17-a002-f930bd6cad1d",
        "colab": {
          "base_uri": "https://localhost:8080/"
        }
      },
      "execution_count": 49,
      "outputs": [
        {
          "output_type": "stream",
          "name": "stdout",
          "text": [
            "-3.000000000010772\n",
            "Original value of a: 2;  Value of a after adding a fraction of the gradient to it: 2.0300000000001077\n",
            "4 3.909999999999677\n"
          ]
        }
      ]
    },
    {
      "cell_type": "markdown",
      "source": [
        "###### *The output goes **down** when we **decrease knob a** by a small fraction of the gradient **grada**.*"
      ],
      "metadata": {
        "id": "cwsdQYzpI91j"
      }
    },
    {
      "cell_type": "markdown",
      "source": [
        "###### Lets subtract a fraction of the gradient **gradb** to  **variable b**  and see how the function responds"
      ],
      "metadata": {
        "id": "iqJfMV7WJzFn"
      }
    },
    {
      "cell_type": "code",
      "source": [
        "a = 2\n",
        "b = -3\n",
        "c = 10\n",
        "lr = .01\n",
        "d1 = a*b + c\n",
        "print(gradb) # we calculated this earlier\n",
        "print(f\"Original value of b: {b};  Value of a after adding a fraction of the gradient to it: {b-lr*gradb}\")\n",
        "b = b - lr*gradb\n",
        "d2 = a*b + c\n",
        "print(d1,d2)"
      ],
      "metadata": {
        "id": "ipr4__BSJVBW",
        "outputId": "e3f57eef-a56e-46e2-e9f4-a4bfe6ef46f6",
        "colab": {
          "base_uri": "https://localhost:8080/"
        }
      },
      "execution_count": 51,
      "outputs": [
        {
          "output_type": "stream",
          "name": "stdout",
          "text": [
            "2.0001000000124947\n",
            "Original value of b: -3;  Value of a after adding a fraction of the gradient to it: -3.020001000000125\n",
            "4 3.95999799999975\n"
          ]
        }
      ]
    },
    {
      "cell_type": "markdown",
      "source": [
        "###### *The output goes **down** when we **decrease knob b** by a small fraction of the gradient **gradb**.*"
      ],
      "metadata": {
        "id": "3LFtuA3lJgcB"
      }
    },
    {
      "cell_type": "markdown",
      "source": [
        "###### Lets subtract a fraction of the gradient **gradc** to  **variable c**  and see how the function responds"
      ],
      "metadata": {
        "id": "l1uMHcgeJ3Rr"
      }
    },
    {
      "cell_type": "code",
      "source": [
        "a = 2\n",
        "b = -3\n",
        "c = 10\n",
        "lr = .01\n",
        "d1 = a*b + c\n",
        "print(gradc) # we calculated this earlier\n",
        "print(f\"Original value of c: {c};  Value of a after adding a fraction of the gradient to it: {c-lr*gradc}\")\n",
        "c = c - lr*gradc\n",
        "d2 = a*b + c\n",
        "print(d1,d2)"
      ],
      "metadata": {
        "id": "GHxWFLYYJ8ue",
        "outputId": "bd17d5bc-34fb-4f15-e68b-60818306c2e3",
        "colab": {
          "base_uri": "https://localhost:8080/"
        }
      },
      "execution_count": 50,
      "outputs": [
        {
          "output_type": "stream",
          "name": "stdout",
          "text": [
            "0.9999999999976694\n",
            "Original value of c: 10;  Value of a after adding a fraction of the gradient to it: 9.990000000000023\n",
            "4 3.9900000000000233\n"
          ]
        }
      ]
    },
    {
      "cell_type": "markdown",
      "source": [
        "###### *The output goes **down** when we **decrease knob c** by a small fraction of the gradient **gradc**.*"
      ],
      "metadata": {
        "id": "lLLz06L0KFBo"
      }
    },
    {
      "cell_type": "markdown",
      "source": [
        "##### The function output **decreased** when we **individually decreased** each variable by a **fraction of the gradient** with respect to that variable"
      ],
      "metadata": {
        "id": "M9npwyQbNuNh"
      }
    },
    {
      "cell_type": "markdown",
      "source": [
        "\n",
        "\n",
        "#### In Summary if we want to know which direction to tweak all the variables (knobs) of a function to **increase** the output of a function, we just need to **add to each variable**, **the gradient** (or a fraction of it) of the function **with respect to that variable**.\n",
        "\n",
        "#### Conversely, to **decrease** the output of a function, we just need to **subtract** from  each variable, the **gradient** (or a fraction of it) of the function **with respect to that variable.**\n",
        "\n",
        "#### This fact is very useful when we train neural networks, which are essentially functions with many knobs (variables). The output of a neural network is passed as input to another function, often called the loss function, which compares how far off the output of the neural network is from the true (ground truth) value. The lower the output of the loss function, the better. So we want to tweak the variables of the neural network so that the loss function output is lowered. We achieve this by subtracting the gradient (a fraction of it) of the loss function (with respect to each variable) from each variable.\n",
        "\n",
        "#### The amount to subtract is found by an efficient algorithm called **backpropagation**, which essentially does what we did in this notebook\n"
      ],
      "metadata": {
        "id": "W3mMT_Q_O0-h"
      }
    }
  ]
}