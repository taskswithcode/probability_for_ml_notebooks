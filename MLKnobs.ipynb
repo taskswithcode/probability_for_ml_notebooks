{
  "nbformat": 4,
  "nbformat_minor": 0,
  "metadata": {
    "colab": {
      "name": "MLKnobs.ipynb",
      "provenance": [],
      "include_colab_link": true
    },
    "kernelspec": {
      "name": "python3",
      "display_name": "Python 3"
    },
    "language_info": {
      "name": "python"
    }
  },
  "cells": [
    {
      "cell_type": "markdown",
      "metadata": {
        "id": "view-in-github",
        "colab_type": "text"
      },
      "source": [
        "<a href=\"https://colab.research.google.com/github/taskswithcode/probability_for_ml_notebooks/blob/main/MLKnobs.ipynb\" target=\"_parent\"><img src=\"https://colab.research.google.com/assets/colab-badge.svg\" alt=\"Open In Colab\"/></a>"
      ]
    },
    {
      "cell_type": "markdown",
      "source": [
        "##### **How does a large Neural Network Learn? Explained with just arithmetic - no Calculus**"
      ],
      "metadata": {
        "id": "yqtpHlbk2ehd"
      }
    },
    {
      "cell_type": "markdown",
      "source": [
        "Neural networks learn transformations to map input to the desired output. The transformations are learned in the adjustable numbers in the model (typically called model parameters).  We [saw how a single number in a toy model](https://colab.research.google.com/github/taskswithcode/probability_for_ml_notebooks/blob/main/MLToyModel_arith.ipynb) can be learned.  But how do we do this for a large model?\n",
        "\n",
        "It is exactly the same approach for a model with multiple parameters. For each model parameter we do the following steps\n",
        "\n",
        "- first send an input through the model and compute model error or loss (E1)\n",
        "- then bump up the value of a dial by a value 'h'.\n",
        "- Send the same input again through model and compute error E2).\n",
        "- Find the rate of chage of error (or gradient) - (E2 - E1)/h\n",
        "- Now simply subtract a small amount of this value from the dial.\n",
        "\n",
        "Repeat the steps above for each dial and for each training input.\n",
        "\n",
        "This procedure is performed on a simple function of three variables below, to get an intuition of the learning process\n",
        "\n",
        "Note in the real world, we do this efficiently using Calculus. We will examing this in a future notebook\n"
      ],
      "metadata": {
        "id": "fGa1CrF1lyMn"
      }
    },
    {
      "cell_type": "markdown",
      "source": [
        "##### Lets start with a function with three **variables (dials)** that control the output value"
      ],
      "metadata": {
        "id": "2PVhRppdQmdp"
      }
    },
    {
      "cell_type": "code",
      "source": [
        "a = 2\n",
        "b = -3\n",
        "c = 10\n",
        "value = a * b + c\n",
        "value"
      ],
      "metadata": {
        "colab": {
          "base_uri": "https://localhost:8080/"
        },
        "id": "W59Qt3A2zwT8",
        "outputId": "968b1518-b7af-4371-b53f-5caf3082511c"
      },
      "execution_count": 1,
      "outputs": [
        {
          "output_type": "execute_result",
          "data": {
            "text/plain": [
              "4"
            ]
          },
          "metadata": {},
          "execution_count": 1
        }
      ]
    },
    {
      "cell_type": "markdown",
      "source": [
        "##### Our objective is to figure out how to tweak these variables so that the output of the function increases *(or decreases if that is of interest to our use case)*\n",
        "\n",
        "##### To figure this out lets start by examining how these variables individually affect the function output"
      ],
      "metadata": {
        "id": "XFLnAcHmxUcT"
      }
    },
    {
      "cell_type": "markdown",
      "source": [
        "##### We are first going to change these dials individually by a fixed value **h**"
      ],
      "metadata": {
        "id": "1BYTcWMdz08A"
      }
    },
    {
      "cell_type": "code",
      "source": [
        "h = .1 #constant value used to change each variable separately below"
      ],
      "metadata": {
        "id": "Zg44i3VczzrA"
      },
      "execution_count": 2,
      "outputs": []
    },
    {
      "cell_type": "markdown",
      "source": [
        "###### Lets change **variable a** first and see how the function responds"
      ],
      "metadata": {
        "id": "3wz1XqWM1GXD"
      }
    },
    {
      "cell_type": "code",
      "source": [
        "d1 = a*b+c\n",
        "print(a,a+h)\n",
        "a = a + h\n",
        "d2 = a*b + c\n",
        "print(d1,d2)"
      ],
      "metadata": {
        "colab": {
          "base_uri": "https://localhost:8080/"
        },
        "id": "ge0sJNIr0Btk",
        "outputId": "e74fb5b6-32d9-4e57-b625-821934cf2b68"
      },
      "execution_count": 3,
      "outputs": [
        {
          "output_type": "stream",
          "name": "stdout",
          "text": [
            "2 2.1\n",
            "4 3.6999999999999993\n"
          ]
        }
      ]
    },
    {
      "cell_type": "markdown",
      "source": [
        "*When we **changed variable a** by adding a tiny amount **h**, the function output went **down** a little. So **increasing variable a decreases** the output*"
      ],
      "metadata": {
        "id": "dYxgxRw90R-v"
      }
    },
    {
      "cell_type": "code",
      "source": [
        "GradA = (d2-d1)/h\n",
        "GradA"
      ],
      "metadata": {
        "colab": {
          "base_uri": "https://localhost:8080/"
        },
        "id": "S-xLmoGm0dJ0",
        "outputId": "fdad1bf1-ccd4-493a-c6f9-08a4e7c188ae"
      },
      "execution_count": 4,
      "outputs": [
        {
          "output_type": "execute_result",
          "data": {
            "text/plain": [
              "-3.000000000000007"
            ]
          },
          "metadata": {},
          "execution_count": 4
        }
      ]
    },
    {
      "cell_type": "markdown",
      "source": [
        "*This value captures the **rate of change** of function output when we changed the value of **variable a**. We will use it below*"
      ],
      "metadata": {
        "id": "n1Did-qq0ijf"
      }
    },
    {
      "cell_type": "markdown",
      "source": [
        "###### Lets change **variable b** and see how the function responds"
      ],
      "metadata": {
        "id": "t-sliC4B26Mx"
      }
    },
    {
      "cell_type": "code",
      "source": [
        "d1 = a*b+c\n",
        "print(b,b+h)\n",
        "b = b + h\n",
        "d2 = a*b + c\n",
        "print(d1,d2)"
      ],
      "metadata": {
        "colab": {
          "base_uri": "https://localhost:8080/"
        },
        "id": "05UrpU0i3AhM",
        "outputId": "3b405ca6-6846-41a8-9803-439876f141d3"
      },
      "execution_count": 5,
      "outputs": [
        {
          "output_type": "stream",
          "name": "stdout",
          "text": [
            "-3 -2.9\n",
            "3.6999999999999993 3.91\n"
          ]
        }
      ]
    },
    {
      "cell_type": "markdown",
      "source": [
        "*When we **changed variable b** by adding a tiny amount **h**, the function output went **up** a little. So **increasing variable b increases** the output*"
      ],
      "metadata": {
        "id": "vAeZZQWK3fct"
      }
    },
    {
      "cell_type": "code",
      "source": [
        "GradB = (d2-d1)/h\n",
        "GradB"
      ],
      "metadata": {
        "colab": {
          "base_uri": "https://localhost:8080/"
        },
        "id": "69Y191k85NKV",
        "outputId": "6e23c7f5-761a-4e3d-a712-a4c51a9cecfe"
      },
      "execution_count": 6,
      "outputs": [
        {
          "output_type": "execute_result",
          "data": {
            "text/plain": [
              "2.1000000000000085"
            ]
          },
          "metadata": {},
          "execution_count": 6
        }
      ]
    },
    {
      "cell_type": "markdown",
      "source": [
        "*This value captures the **rate of change** of function output when we changed the value of **variable b**. We will use it below*"
      ],
      "metadata": {
        "id": "rLw7r9za5SOp"
      }
    },
    {
      "cell_type": "markdown",
      "source": [
        "###### Lets change **variable c** and see how the function responds"
      ],
      "metadata": {
        "id": "xzAanbVc4jyi"
      }
    },
    {
      "cell_type": "code",
      "source": [
        "d1 = a*b+c\n",
        "print(c,c+h)\n",
        "c = c + h\n",
        "d2 = a*b + c\n",
        "print(d1,d2)"
      ],
      "metadata": {
        "colab": {
          "base_uri": "https://localhost:8080/"
        },
        "id": "Bhq4kLIk4mqb",
        "outputId": "00dee8d7-24fa-4e0b-880a-3d1b2ce5ce4d"
      },
      "execution_count": 7,
      "outputs": [
        {
          "output_type": "stream",
          "name": "stdout",
          "text": [
            "10 10.1\n",
            "3.91 4.01\n"
          ]
        }
      ]
    },
    {
      "cell_type": "markdown",
      "source": [
        "*When we **changed variable c** by adding a tiny amount **h**, the function output went **up** by same amount. So **increasing variable c increases** the output*"
      ],
      "metadata": {
        "id": "UzTDhfNF4wCW"
      }
    },
    {
      "cell_type": "code",
      "source": [
        "GradC = (d2-d1)/h\n",
        "GradC"
      ],
      "metadata": {
        "colab": {
          "base_uri": "https://localhost:8080/"
        },
        "id": "Fq_Wf_oQ54Hu",
        "outputId": "8adaa0be-c7ef-44ec-85e5-b656458e22e2"
      },
      "execution_count": 8,
      "outputs": [
        {
          "output_type": "execute_result",
          "data": {
            "text/plain": [
              "0.9999999999999964"
            ]
          },
          "metadata": {},
          "execution_count": 8
        }
      ]
    },
    {
      "cell_type": "markdown",
      "source": [
        "*This value captures the **rate of change** of function output when we changed the value of **variable c**. We will use it below*"
      ],
      "metadata": {
        "id": "G0C2NUzv59P0"
      }
    },
    {
      "cell_type": "markdown",
      "source": [
        "\n",
        "\n",
        "\n",
        "---\n",
        "\n",
        "\n",
        "##### **Finding so far:** When we **increased two dials (b and c)** the output went **up**, whereas when we **increased  dial a** the output went **down**.\n",
        "\n",
        "How can we know ***which direction to turn the dials*** so the function output ***increases*** (or decreases) ?\n",
        "\n",
        "The rate of change of the function we calculated above ***(grada,gradb,gradc)*** with respect to each variable can be used for this. It tells which direction to tweak a dial.\n",
        "\n",
        "The ***rate of change of a function*** with respect to a variable is often called ***gradient or slope of the function*** with respect to that variable.\n",
        "\n",
        "\n",
        "\n",
        "---\n",
        "\n",
        "\n"
      ],
      "metadata": {
        "id": "FaJHbt5P6yml"
      }
    },
    {
      "cell_type": "markdown",
      "source": [
        "##### We are now going to **change** these dials individually **adding** by a small fraction of the gradients computed above\n",
        "\n"
      ],
      "metadata": {
        "id": "vmYSyMe_8MDI"
      }
    },
    {
      "cell_type": "code",
      "source": [
        "lr = .01 #this is the fraction of the gradients we are going to take"
      ],
      "metadata": {
        "id": "ynMOOGZ-8Zj2"
      },
      "execution_count": 9,
      "outputs": []
    },
    {
      "cell_type": "markdown",
      "source": [
        "###### Lets add a fraction of the gradient **GradA** to  **variable a**  and see how the function responds"
      ],
      "metadata": {
        "id": "Dz8r0r9tFP9l"
      }
    },
    {
      "cell_type": "code",
      "source": [
        "a = 2\n",
        "b = -3\n",
        "c = 10\n",
        "lr = .01\n",
        "d1 = a*b + c\n",
        "print(GradA) # we calculated this earlier\n",
        "print(f\"Original value of a: {a};  Value of a after adding a fraction of the gradient to it: {a+lr*GradA}\")\n",
        "a = a + lr*GradA #We increase \"a\" by a small fraction of the gradient\n",
        "d2 = a*b + c\n",
        "print(d1,d2)"
      ],
      "metadata": {
        "colab": {
          "base_uri": "https://localhost:8080/"
        },
        "id": "gAmngXXw8roj",
        "outputId": "c11315ef-0d1e-4c39-a85c-c62ea03183c1"
      },
      "execution_count": 10,
      "outputs": [
        {
          "output_type": "stream",
          "name": "stdout",
          "text": [
            "-3.000000000000007\n",
            "Original value of a: 2;  Value of a after adding a fraction of the gradient to it: 1.97\n",
            "4 4.09\n"
          ]
        }
      ]
    },
    {
      "cell_type": "markdown",
      "source": [
        "###### The output goes **up** when we changed **dial a** by adding a small fraction of the gradient **GradA**. Note, the output when **down** before when we **changed a** by adding a small amount **h**. The reason it goes up now when we change it by a small fraction of the gradient is, when we are adding a fraction of the gradient to **a**, we are **effectively decreasing the value of a**. This is because the gradient is **negative**\n",
        "See the value of **a** before and after adding the *fraction of the gradient* - it goes down from 2 to 1.9699999999998923"
      ],
      "metadata": {
        "id": "ZrpsoTBFCxz2"
      }
    },
    {
      "cell_type": "markdown",
      "source": [
        "###### Lets add a fraction of the gradient **GradB** to  **variable b**  and see how the function responds"
      ],
      "metadata": {
        "id": "pspxlRP6Fpy6"
      }
    },
    {
      "cell_type": "code",
      "source": [
        "a = 2\n",
        "b = -3\n",
        "c = 10\n",
        "lr = .01\n",
        "d1 = a*b + c\n",
        "print(GradB) # we calculated this earlier\n",
        "print(f\"Original value of b: {b};  Value of a after adding a fraction of the gradient to it: {b+lr*GradB}\")\n",
        "b = b + lr*GradB\n",
        "d2 = a*b + c\n",
        "print(d1,d2)"
      ],
      "metadata": {
        "colab": {
          "base_uri": "https://localhost:8080/"
        },
        "id": "G54WDJwMFsUk",
        "outputId": "f92123bd-0e5f-4b27-f9c6-17925e444305"
      },
      "execution_count": 11,
      "outputs": [
        {
          "output_type": "stream",
          "name": "stdout",
          "text": [
            "2.1000000000000085\n",
            "Original value of b: -3;  Value of a after adding a fraction of the gradient to it: -2.979\n",
            "4 4.042\n"
          ]
        }
      ]
    },
    {
      "cell_type": "markdown",
      "source": [
        "###### *The output goes **up** when we change **dial b** by adding a small fraction of the gradient **GradB**.*"
      ],
      "metadata": {
        "id": "91mLL6cOGDk4"
      }
    },
    {
      "cell_type": "markdown",
      "source": [
        "###### Lets add a fraction of the gradient **GradC** to  **variable c**  and see how the function responds"
      ],
      "metadata": {
        "id": "7IXmWDtqGMoe"
      }
    },
    {
      "cell_type": "code",
      "source": [
        "a = 2\n",
        "b = -3\n",
        "c = 10\n",
        "lr = .01\n",
        "d1 = a*b + c\n",
        "print(GradC) # we calculated this earlier\n",
        "print(f\"Original value of c: {c};  Value of a after adding a fraction of the gradient to it: {c+lr*GradC}\")\n",
        "c = c + lr*GradC\n",
        "d2 = a*b + c\n",
        "print(d1,d2)"
      ],
      "metadata": {
        "colab": {
          "base_uri": "https://localhost:8080/"
        },
        "id": "qtLaBkhYGUlv",
        "outputId": "a5452f86-f089-4537-8108-3490ff83f592"
      },
      "execution_count": 12,
      "outputs": [
        {
          "output_type": "stream",
          "name": "stdout",
          "text": [
            "0.9999999999999964\n",
            "Original value of c: 10;  Value of a after adding a fraction of the gradient to it: 10.01\n",
            "4 4.01\n"
          ]
        }
      ]
    },
    {
      "cell_type": "markdown",
      "source": [
        "###### *The output goes **up** when we change **dial c** by adding a small fraction of the gradient **GradC**.*"
      ],
      "metadata": {
        "id": "01vr1gOOGiZm"
      }
    },
    {
      "cell_type": "markdown",
      "source": [
        "\n",
        "\n",
        "\n",
        "---\n",
        "\n",
        "\n",
        "##### **Finding so far:** The function output **increased** when we **individually changed** each variable by adding a **fraction of the gradient** with respect to that variable\n",
        "\n",
        "\n",
        "---\n",
        "\n"
      ],
      "metadata": {
        "id": "Vu3qPJnnNUQ2"
      }
    },
    {
      "cell_type": "markdown",
      "source": [
        "##### Lets examine function output if we **change** these dials individually by **subtracting** a small fraction of the gradients computed above"
      ],
      "metadata": {
        "id": "UqH-SvTQHJ6N"
      }
    },
    {
      "cell_type": "markdown",
      "source": [
        "###### So lets subtract a fraction of the gradient **GradA** from  **variable a**  and see how the function responds"
      ],
      "metadata": {
        "id": "nZwQsb91JtL6"
      }
    },
    {
      "cell_type": "code",
      "source": [
        "a = 2\n",
        "b = -3\n",
        "c = 10\n",
        "lr = .01\n",
        "d1 = a*b + c\n",
        "print(GradA) # we calculated this earlier\n",
        "print(f\"Original value of a: {a};  Value of a after adding a fraction of the gradient to it: {a-lr*GradA}\")\n",
        "a = a - lr*GradA #We increase \"a\" by a small fraction of the gradient\n",
        "d2 = a*b + c\n",
        "print(d1,d2)"
      ],
      "metadata": {
        "colab": {
          "base_uri": "https://localhost:8080/"
        },
        "id": "D75OKY-VIvXv",
        "outputId": "4de83487-67b9-4e97-ec45-e27430f838de"
      },
      "execution_count": 13,
      "outputs": [
        {
          "output_type": "stream",
          "name": "stdout",
          "text": [
            "-3.000000000000007\n",
            "Original value of a: 2;  Value of a after adding a fraction of the gradient to it: 2.0300000000000002\n",
            "4 3.9099999999999993\n"
          ]
        }
      ]
    },
    {
      "cell_type": "markdown",
      "source": [
        "###### *The output goes **down** when we **change dial a** by subtracting a small fraction of the gradient **GradA**.*"
      ],
      "metadata": {
        "id": "cwsdQYzpI91j"
      }
    },
    {
      "cell_type": "markdown",
      "source": [
        "###### Lets subtract a fraction of the gradient **GradB** from  **variable b**  and see how the function responds"
      ],
      "metadata": {
        "id": "iqJfMV7WJzFn"
      }
    },
    {
      "cell_type": "code",
      "source": [
        "a = 2\n",
        "b = -3\n",
        "c = 10\n",
        "lr = .01\n",
        "d1 = a*b + c\n",
        "print(GradB) # we calculated this earlier\n",
        "print(f\"Original value of b: {b};  Value of a after adding a fraction of the gradient to it: {b-lr*GradB}\")\n",
        "b = b - lr*GradB\n",
        "d2 = a*b + c\n",
        "print(d1,d2)"
      ],
      "metadata": {
        "colab": {
          "base_uri": "https://localhost:8080/"
        },
        "id": "ipr4__BSJVBW",
        "outputId": "3d03ccec-4c40-4459-8ff3-213d352e2617"
      },
      "execution_count": 14,
      "outputs": [
        {
          "output_type": "stream",
          "name": "stdout",
          "text": [
            "2.1000000000000085\n",
            "Original value of b: -3;  Value of a after adding a fraction of the gradient to it: -3.021\n",
            "4 3.958\n"
          ]
        }
      ]
    },
    {
      "cell_type": "markdown",
      "source": [
        "###### *The output goes **down** when we **change dial b** by subtracting a small fraction of the gradient **GradB**.*"
      ],
      "metadata": {
        "id": "3LFtuA3lJgcB"
      }
    },
    {
      "cell_type": "markdown",
      "source": [
        "###### Lets subtract a fraction of the gradient **GradC** to  **variable c**  and see how the function responds"
      ],
      "metadata": {
        "id": "l1uMHcgeJ3Rr"
      }
    },
    {
      "cell_type": "code",
      "source": [
        "a = 2\n",
        "b = -3\n",
        "c = 10\n",
        "lr = .01\n",
        "d1 = a*b + c\n",
        "print(GradC) # we calculated this earlier\n",
        "print(f\"Original value of c: {c};  Value of a after adding a fraction of the gradient to it: {c-lr*GradC}\")\n",
        "c = c - lr*GradC\n",
        "d2 = a*b + c\n",
        "print(d1,d2)"
      ],
      "metadata": {
        "colab": {
          "base_uri": "https://localhost:8080/"
        },
        "id": "GHxWFLYYJ8ue",
        "outputId": "d1b0e171-e4c5-435e-9694-43059bf1d7dd"
      },
      "execution_count": 15,
      "outputs": [
        {
          "output_type": "stream",
          "name": "stdout",
          "text": [
            "0.9999999999999964\n",
            "Original value of c: 10;  Value of a after adding a fraction of the gradient to it: 9.99\n",
            "4 3.99\n"
          ]
        }
      ]
    },
    {
      "cell_type": "markdown",
      "source": [
        "###### *The output goes **down** when we **change dial c** by subtracting a small fraction of the gradient **GradC**.*"
      ],
      "metadata": {
        "id": "lLLz06L0KFBo"
      }
    },
    {
      "cell_type": "markdown",
      "source": [
        "\n",
        "\n",
        "---\n",
        "\n",
        "\n",
        "##### **Finding so far:** The function output **decreased** when we **individually changed** each variable by subtracting a **fraction of the gradient** with respect to that variable\n",
        "\n",
        "\n",
        "\n",
        "---\n",
        "\n"
      ],
      "metadata": {
        "id": "M9npwyQbNuNh"
      }
    },
    {
      "cell_type": "markdown",
      "source": [
        "\n",
        "\n",
        "\n",
        "---\n",
        "\n",
        "\n",
        "\n",
        "##### **Final Summary:** If we want to know which direction to tweak all the variables (dials) of a function to **increase** the output of a function, we just need to **add to each variable**, **the gradient** (or a fraction of it) of the function **with respect to that variable**.\n",
        "\n",
        "##### Conversely, to **decrease** the output of a function, we just need to **subtract** from  each variable, the **gradient** (or a fraction of it) of the function **with respect to that variable.**\n",
        "\n",
        "##### The gradient of a variable has two pieces of information to increase (or decrease) a function's output. It contains\n",
        "- the direction to tweak a variable, and\n",
        "- how much to tweak a variable.\n",
        "\n",
        "##### This fact is very useful when we train a neural network, which is essentially a function with many dials (variables). During training, the output of a neural network is passed as input to another function, often called the loss function, which compares how far off the output of the neural network is from the true (ground truth) value.\n",
        "\n",
        "##### The lower the output of the loss function, the better. So we want to tweak the variables of the neural network such that the loss function output is lowered. We achieve this by subtracting the gradient (a fraction of it) of the loss function (with respect to each variable) from each variable. Once trained, the loss function is discarded - only the neural network is used.\n",
        "\n",
        "##### The gradient for each variable is found by an efficient algorithm called **backpropagation**. This algorithm essentially does what we did in this notebook\n",
        "\n",
        "##### The update of each variable with a fraction of the gradient is done by an optimization algorithm called **gradient descent**.\n",
        "\n",
        "\n",
        "\n",
        "---\n",
        "\n",
        "\n"
      ],
      "metadata": {
        "id": "W3mMT_Q_O0-h"
      }
    },
    {
      "cell_type": "markdown",
      "source": [
        "\n",
        "\n",
        "---\n",
        "\n",
        "##### **Additional notes.** The above argument applies no matter how many dials a function has, or how complex the function is. For instance, in the example below, the output function depends\n",
        "- directly on some dials\n",
        "- and also another function which in turn depends on few other dials that are not directly present in the output function.\n",
        "\n",
        "##### The observations we made earlier still applies."
      ],
      "metadata": {
        "id": "idlba-bWBIh1"
      }
    },
    {
      "cell_type": "code",
      "source": [
        "h = .1\n",
        "a = 1\n",
        "b = -1\n",
        "c = -2\n",
        "d = 3\n",
        "e = -2\n",
        "f = d*e*c\n",
        "d1 = a*b*f # d is only used indirectly through f in the output function\n",
        "print(d,d+h)\n",
        "d = d + h\n",
        "f = d*e*c\n",
        "d2 = a*b*f\n",
        "print(d1,d2)"
      ],
      "metadata": {
        "colab": {
          "base_uri": "https://localhost:8080/"
        },
        "id": "pAodIr_lBlwV",
        "outputId": "c9d75ec3-7acb-41ce-ddb6-58b59cd7461d"
      },
      "execution_count": 16,
      "outputs": [
        {
          "output_type": "stream",
          "name": "stdout",
          "text": [
            "3 3.1\n",
            "-12 -12.4\n"
          ]
        }
      ]
    },
    {
      "cell_type": "code",
      "source": [
        "GradD = (d2-d1)/h\n",
        "GradD"
      ],
      "metadata": {
        "colab": {
          "base_uri": "https://localhost:8080/"
        },
        "id": "QuPgDw1jBp07",
        "outputId": "54d76932-f9fd-4465-9eef-40e1ef6ecca3"
      },
      "execution_count": 17,
      "outputs": [
        {
          "output_type": "execute_result",
          "data": {
            "text/plain": [
              "-4.0000000000000036"
            ]
          },
          "metadata": {},
          "execution_count": 17
        }
      ]
    },
    {
      "cell_type": "code",
      "source": [
        "h = .1\n",
        "a = 1\n",
        "b = -1\n",
        "c = -2\n",
        "d = 3\n",
        "e = -2\n",
        "lr = .01\n",
        "f = d*e*c\n",
        "d1 = a*b*f\n",
        "print(d,d + lr*GradD)\n",
        "d = d + lr*GradD\n",
        "f = d*e*c\n",
        "d2 = a*b*f\n",
        "print(d1,d2)"
      ],
      "metadata": {
        "colab": {
          "base_uri": "https://localhost:8080/"
        },
        "id": "ItP3amp4BxGs",
        "outputId": "dc4293a2-925e-4ac0-c021-f410883bc648"
      },
      "execution_count": 18,
      "outputs": [
        {
          "output_type": "stream",
          "name": "stdout",
          "text": [
            "3 2.96\n",
            "-12 -11.84\n"
          ]
        }
      ]
    },
    {
      "cell_type": "code",
      "source": [
        "h = .1\n",
        "a = 1\n",
        "b = -1\n",
        "c = -2\n",
        "d = 3\n",
        "e = -2\n",
        "lr = .01\n",
        "f = d*e*c\n",
        "d1 = a*b*f\n",
        "print(d,d - lr*GradD)\n",
        "d = d - lr*GradD\n",
        "f = d*e*c\n",
        "d2 = a*b*f\n",
        "print(d1,d2)"
      ],
      "metadata": {
        "colab": {
          "base_uri": "https://localhost:8080/"
        },
        "id": "EdNqgKbABsVJ",
        "outputId": "7dd070a3-0c08-4380-9ea2-70b0b718bfae"
      },
      "execution_count": 19,
      "outputs": [
        {
          "output_type": "stream",
          "name": "stdout",
          "text": [
            "3 3.04\n",
            "-12 -12.16\n"
          ]
        }
      ]
    },
    {
      "cell_type": "markdown",
      "source": [
        "The content of this notebook is adapted from and inspired by [Andrej Karpathy's video on neural networks](https://youtu.be/VMj-3S1tku0)"
      ],
      "metadata": {
        "id": "NNeNN01U1CYS"
      }
    }
  ]
}