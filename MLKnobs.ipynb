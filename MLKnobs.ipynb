{
  "nbformat": 4,
  "nbformat_minor": 0,
  "metadata": {
    "colab": {
      "name": "MLKnobs.ipynb",
      "provenance": [],
      "include_colab_link": true
    },
    "kernelspec": {
      "name": "python3",
      "display_name": "Python 3"
    },
    "language_info": {
      "name": "python"
    }
  },
  "cells": [
    {
      "cell_type": "markdown",
      "metadata": {
        "id": "view-in-github",
        "colab_type": "text"
      },
      "source": [
        "<a href=\"https://colab.research.google.com/github/taskswithcode/probability_for_ml_notebooks/blob/main/MLKnobs.ipynb\" target=\"_parent\"><img src=\"https://colab.research.google.com/assets/colab-badge.svg\" alt=\"Open In Colab\"/></a>"
      ]
    },
    {
      "cell_type": "markdown",
      "source": [
        "**How do Neural Networks learn? *(with just arithmetic - No Calculus)*.**"
      ],
      "metadata": {
        "id": "yqtpHlbk2ehd"
      }
    },
    {
      "cell_type": "markdown",
      "source": [
        "#### 1. Lets start with a function with three **knobs (variables)** that control the output value.\n",
        "\n",
        "#### Our objective is to find out how do we **tweak** these knobs so the function output increases *(or decreases if that is what we prefer)*"
      ],
      "metadata": {
        "id": "2PVhRppdQmdp"
      }
    },
    {
      "cell_type": "code",
      "source": [
        "a = 2\n",
        "b = -3\n",
        "c = 10\n",
        "value = a * b + c\n",
        "print(f\"Value of the function before changing any variable: {value}\")"
      ],
      "metadata": {
        "id": "W59Qt3A2zwT8",
        "outputId": "c5c6bbd8-122c-4c14-a3b1-5627e515934a",
        "colab": {
          "base_uri": "https://localhost:8080/"
        }
      },
      "execution_count": null,
      "outputs": [
        {
          "output_type": "stream",
          "name": "stdout",
          "text": [
            "Value of the function before changing any variable: 4\n"
          ]
        }
      ]
    },
    {
      "cell_type": "markdown",
      "source": [
        "##### We are first going to change these knobs **individually** by adding a fixed value  **h** and see what happens to the output"
      ],
      "metadata": {
        "id": "1BYTcWMdz08A"
      }
    },
    {
      "cell_type": "code",
      "source": [],
      "metadata": {
        "id": "9-cmT_F124V-"
      },
      "execution_count": null,
      "outputs": []
    },
    {
      "cell_type": "code",
      "source": [
        "h = .0001 #the fixed constant value we are going to use to increase each variable"
      ],
      "metadata": {
        "id": "Zg44i3VczzrA"
      },
      "execution_count": null,
      "outputs": []
    },
    {
      "cell_type": "code",
      "source": [],
      "metadata": {
        "id": "HarwXbxl24HJ"
      },
      "execution_count": null,
      "outputs": []
    },
    {
      "cell_type": "markdown",
      "source": [
        "###### Lets add **h** to **variable a** first and see how the function responds"
      ],
      "metadata": {
        "id": "3wz1XqWM1GXD"
      }
    },
    {
      "cell_type": "code",
      "source": [
        "d1 = a*b+c\n",
        "print(a,a+h)\n",
        "a = a + h #tweaking a\n",
        "d2 = a*b + c\n",
        "print(d1,d2)"
      ],
      "metadata": {
        "id": "ge0sJNIr0Btk",
        "outputId": "508a0580-962d-4429-b6bb-39e854677a42",
        "colab": {
          "base_uri": "https://localhost:8080/"
        }
      },
      "execution_count": null,
      "outputs": [
        {
          "output_type": "stream",
          "name": "stdout",
          "text": [
            "2 2.0001\n",
            "4 3.999699999999999\n"
          ]
        }
      ]
    },
    {
      "cell_type": "markdown",
      "source": [
        "*When we **changed variable a** by adding a tiny amount **h**, the function output went **down** a little from 4 to 3.99969. So **increasing variable a decreases** output*"
      ],
      "metadata": {
        "id": "dYxgxRw90R-v"
      }
    },
    {
      "cell_type": "code",
      "source": [
        "grada = (d2-d1)/h\n",
        "grada"
      ],
      "metadata": {
        "id": "S-xLmoGm0dJ0",
        "outputId": "da5e7ad2-3bce-4b25-9e3c-c5b43aab6c40",
        "colab": {
          "base_uri": "https://localhost:8080/"
        }
      },
      "execution_count": null,
      "outputs": [
        {
          "output_type": "execute_result",
          "data": {
            "text/plain": [
              "-3.000000000010772"
            ]
          },
          "metadata": {},
          "execution_count": 116
        }
      ]
    },
    {
      "cell_type": "markdown",
      "source": [
        "*This value captures the **rate of change** of function output when we increased the value of **variable a**. We will use it below*"
      ],
      "metadata": {
        "id": "n1Did-qq0ijf"
      }
    },
    {
      "cell_type": "markdown",
      "source": [
        "###### Lets add **h** to **variable b** and see how the function responds"
      ],
      "metadata": {
        "id": "t-sliC4B26Mx"
      }
    },
    {
      "cell_type": "code",
      "source": [
        "d1 = a*b+c\n",
        "print(b,b+h)\n",
        "b = b + h\n",
        "d2 = a*b + c\n",
        "print(d1,d2)"
      ],
      "metadata": {
        "id": "05UrpU0i3AhM",
        "outputId": "85128e84-f84a-4c4f-a02a-fc8dd63a218a",
        "colab": {
          "base_uri": "https://localhost:8080/"
        }
      },
      "execution_count": null,
      "outputs": [
        {
          "output_type": "stream",
          "name": "stdout",
          "text": [
            "-3 -2.9999\n",
            "3.999699999999999 3.99990001\n"
          ]
        }
      ]
    },
    {
      "cell_type": "markdown",
      "source": [
        "*When we **changed variable b** by adding a tiny amount **h**, the function output went **up** a little. So **increasing variable b increases** output*"
      ],
      "metadata": {
        "id": "vAeZZQWK3fct"
      }
    },
    {
      "cell_type": "code",
      "source": [
        "gradb = (d2-d1)/h\n",
        "gradb"
      ],
      "metadata": {
        "id": "69Y191k85NKV",
        "outputId": "88c11fdb-e95d-4b02-e1f5-57767c7a2f6c",
        "colab": {
          "base_uri": "https://localhost:8080/"
        }
      },
      "execution_count": null,
      "outputs": [
        {
          "output_type": "execute_result",
          "data": {
            "text/plain": [
              "2.0001000000124947"
            ]
          },
          "metadata": {},
          "execution_count": 125
        }
      ]
    },
    {
      "cell_type": "markdown",
      "source": [
        "*This value captures the **rate of change** of function output when we increased the value of **variable b**. We will use it below*"
      ],
      "metadata": {
        "id": "rLw7r9za5SOp"
      }
    },
    {
      "cell_type": "markdown",
      "source": [
        "###### Lets add **h** to **variable c** and see how the function responds"
      ],
      "metadata": {
        "id": "xzAanbVc4jyi"
      }
    },
    {
      "cell_type": "code",
      "source": [
        "d1 = a*b+c\n",
        "print(c,c+h)\n",
        "c = c + h\n",
        "d2 = a*b + c\n",
        "print(d1,d2)"
      ],
      "metadata": {
        "id": "Bhq4kLIk4mqb",
        "outputId": "e4baaa89-dc45-4b61-bbe6-0598bb323082",
        "colab": {
          "base_uri": "https://localhost:8080/"
        }
      },
      "execution_count": null,
      "outputs": [
        {
          "output_type": "stream",
          "name": "stdout",
          "text": [
            "10 10.0001\n",
            "3.99990001 4.00000001\n"
          ]
        }
      ]
    },
    {
      "cell_type": "markdown",
      "source": [
        "*When we **changed variable c** by a adding tiny amount **h**, the function output went **up** by same amount. So **increasing variable c increases** output*"
      ],
      "metadata": {
        "id": "UzTDhfNF4wCW"
      }
    },
    {
      "cell_type": "code",
      "source": [
        "gradc = (d2-d1)/h\n",
        "gradc"
      ],
      "metadata": {
        "id": "Fq_Wf_oQ54Hu",
        "outputId": "8a78d545-dbc1-4d93-d5d3-e3f79961456a",
        "colab": {
          "base_uri": "https://localhost:8080/"
        }
      },
      "execution_count": null,
      "outputs": [
        {
          "output_type": "execute_result",
          "data": {
            "text/plain": [
              "0.9999999999976694"
            ]
          },
          "metadata": {},
          "execution_count": 127
        }
      ]
    },
    {
      "cell_type": "markdown",
      "source": [
        "*This value captures the **rate of change** of function output when we increased the value of **variable c**. We will use it below*"
      ],
      "metadata": {
        "id": "G0C2NUzv59P0"
      }
    },
    {
      "cell_type": "markdown",
      "source": [
        "##### **Our findings so far:** When we **increased two knobs (b and c)** by a fixed value **h** the output went **up**, whereas when we **increased  knob a** the output went **down**.\n",
        "\n",
        "How can we know ***which direction to turn the knobs*** so the function output ***increases*** (or decreases if thats what we prefer) ?\n",
        "\n",
        "The rate of change of the function with respect to each variable, that we calculated above ***(grada,gradb,gradc)***  is useful for this.\n",
        "\n",
        "The ***rate of change of a function*** with respect to a variable is often called ***gradient or slope of the function*** with respect to that variable.\n"
      ],
      "metadata": {
        "id": "FaJHbt5P6yml"
      }
    },
    {
      "cell_type": "markdown",
      "source": [
        "##### We are now going to **change** these knobs individually by adding a **small fraction of the gradients** computed above"
      ],
      "metadata": {
        "id": "vmYSyMe_8MDI"
      }
    },
    {
      "cell_type": "code",
      "source": [
        "lr = .01 #this is the fraction of the gradients we are going to take"
      ],
      "metadata": {
        "id": "ynMOOGZ-8Zj2"
      },
      "execution_count": null,
      "outputs": []
    },
    {
      "cell_type": "markdown",
      "source": [
        "###### Lets add a fraction of the gradient **grada** to  **variable a**  and see how the function responds"
      ],
      "metadata": {
        "id": "Dz8r0r9tFP9l"
      }
    },
    {
      "cell_type": "code",
      "source": [
        "a = 2\n",
        "b = -3\n",
        "c = 10\n",
        "lr = .01\n",
        "d1 = a*b + c\n",
        "print(grada) # we calculated this earlier\n",
        "print(f\"Original value of a: {a};  Value of a after adding a fraction of the gradient to it: {a+lr*grada}\")\n",
        "a = a + lr*grada #We increase \"a\" by a small fraction of the gradient\n",
        "d2 = a*b + c\n",
        "print(d1,d2)"
      ],
      "metadata": {
        "id": "gAmngXXw8roj",
        "outputId": "d16b6c33-752d-467a-e4c3-b228380cf7fa",
        "colab": {
          "base_uri": "https://localhost:8080/"
        }
      },
      "execution_count": null,
      "outputs": [
        {
          "output_type": "stream",
          "name": "stdout",
          "text": [
            "-3.000000000010772\n",
            "Original value of a: 2;  Value of a after adding a fraction of the gradient to it: 1.9699999999998923\n",
            "4 4.090000000000323\n"
          ]
        }
      ]
    },
    {
      "cell_type": "markdown",
      "source": [
        "###### The output goes **up** when we changed **knob a** by a small fraction of the gradient **grada**. The output went up from 4 to 4.09. Note, the output went **down** before when we **increased a** by a fixed value h. The reason it goes up now when we changed it by a small fraction of the gradient is, when we are adding a fraction of the gradient to **a**, we are **effectively decreasing the value of a, because the gradient is a negative value**\n",
        "Note the value of **a** before and after adding the *fraction of the gradient* - it goes down from 2 to 1.9699999999998923. Essentially we **turning down knob a when adding the gradient** to it."
      ],
      "metadata": {
        "id": "ZrpsoTBFCxz2"
      }
    },
    {
      "cell_type": "markdown",
      "source": [
        "###### Lets add a fraction of the gradient **gradb** to  **variable b**  and see how the function responds"
      ],
      "metadata": {
        "id": "pspxlRP6Fpy6"
      }
    },
    {
      "cell_type": "code",
      "source": [
        "a = 2\n",
        "b = -3\n",
        "c = 10\n",
        "lr = .01\n",
        "d1 = a*b + c\n",
        "print(gradb) # we calculated this earlier\n",
        "print(f\"Original value of b: {b};  Value of a after adding a fraction of the gradient to it: {b+lr*gradb}\")\n",
        "b = b + lr*gradb\n",
        "d2 = a*b + c\n",
        "print(d1,d2)"
      ],
      "metadata": {
        "id": "G54WDJwMFsUk",
        "outputId": "840de6a6-f9b9-4f94-85d8-50804eb78327",
        "colab": {
          "base_uri": "https://localhost:8080/"
        }
      },
      "execution_count": null,
      "outputs": [
        {
          "output_type": "stream",
          "name": "stdout",
          "text": [
            "2.0001000000124947\n",
            "Original value of b: -3;  Value of a after adding a fraction of the gradient to it: -2.979998999999875\n",
            "4 4.04000200000025\n"
          ]
        }
      ]
    },
    {
      "cell_type": "markdown",
      "source": [
        "###### *The output goes **up** when we change **knob b** by a small fraction of the gradient **gradb**.* **Adding a small value** of the gradient **turns up** knob b"
      ],
      "metadata": {
        "id": "91mLL6cOGDk4"
      }
    },
    {
      "cell_type": "markdown",
      "source": [
        "###### Lets add a fraction of the gradient **gradc** to  **variable c**  and see how the function responds"
      ],
      "metadata": {
        "id": "7IXmWDtqGMoe"
      }
    },
    {
      "cell_type": "code",
      "source": [
        "a = 2\n",
        "b = -3\n",
        "c = 10\n",
        "lr = .01\n",
        "d1 = a*b + c\n",
        "print(gradc) # we calculated this earlier\n",
        "print(f\"Original value of c: {c};  Value of a after adding a fraction of the gradient to it: {c+lr*gradc}\")\n",
        "c = c + lr*gradc\n",
        "d2 = a*b + c\n",
        "print(d1,d2)"
      ],
      "metadata": {
        "id": "qtLaBkhYGUlv",
        "outputId": "cb9f25dd-9c4b-4135-bdf4-105901765fad",
        "colab": {
          "base_uri": "https://localhost:8080/"
        }
      },
      "execution_count": null,
      "outputs": [
        {
          "output_type": "stream",
          "name": "stdout",
          "text": [
            "0.9999999999976694\n",
            "Original value of c: 10;  Value of a after adding a fraction of the gradient to it: 10.009999999999977\n",
            "4 4.009999999999977\n"
          ]
        }
      ]
    },
    {
      "cell_type": "markdown",
      "source": [
        "###### *The output goes **up** when we change **knob c** by a small fraction of the gradient **gradc**.* **Adding a small value** of the gradient **turns up** knob c"
      ],
      "metadata": {
        "id": "01vr1gOOGiZm"
      }
    },
    {
      "cell_type": "markdown",
      "source": [
        "##### **Our finding from this**: The function output **increased** when we **individually increased** each variable by a **fraction of the gradient** with respect to that variable. The gradient essentially took care of which way (and by how much) to turn a knob in order to increase the function output"
      ],
      "metadata": {
        "id": "Vu3qPJnnNUQ2"
      }
    },
    {
      "cell_type": "markdown",
      "source": [
        "##### We are now going to **decrease** these knobs individually by a small fraction of the gradients computed above"
      ],
      "metadata": {
        "id": "UqH-SvTQHJ6N"
      }
    },
    {
      "cell_type": "markdown",
      "source": [
        "###### Lets subtract a fraction of the gradient **grada** to  **variable a**  and see how the function responds"
      ],
      "metadata": {
        "id": "nZwQsb91JtL6"
      }
    },
    {
      "cell_type": "code",
      "source": [
        "a = 2\n",
        "b = -3\n",
        "c = 10\n",
        "lr = .01\n",
        "d1 = a*b + c\n",
        "print(grada) # we calculated this earlier\n",
        "print(f\"Original value of a: {a};  Value of a after adding a fraction of the gradient to it: {a-lr*grada}\")\n",
        "a = a - lr*grada #We increase \"a\" by a small fraction of the gradient\n",
        "d2 = a*b + c\n",
        "print(d1,d2)"
      ],
      "metadata": {
        "id": "D75OKY-VIvXv",
        "outputId": "6b9066ca-8363-4b29-de03-7a8ebd03ed5c",
        "colab": {
          "base_uri": "https://localhost:8080/"
        }
      },
      "execution_count": null,
      "outputs": [
        {
          "output_type": "stream",
          "name": "stdout",
          "text": [
            "-3.000000000010772\n",
            "Original value of a: 2;  Value of a after adding a fraction of the gradient to it: 2.0300000000001077\n",
            "4 3.909999999999677\n"
          ]
        }
      ]
    },
    {
      "cell_type": "markdown",
      "source": [
        "###### *The output goes **down** when we **decrease knob a** by a small fraction of the gradient **grada**.*"
      ],
      "metadata": {
        "id": "cwsdQYzpI91j"
      }
    },
    {
      "cell_type": "markdown",
      "source": [
        "###### Lets subtract a fraction of the gradient **gradb** to  **variable b**  and see how the function responds"
      ],
      "metadata": {
        "id": "iqJfMV7WJzFn"
      }
    },
    {
      "cell_type": "code",
      "source": [
        "a = 2\n",
        "b = -3\n",
        "c = 10\n",
        "lr = .01\n",
        "d1 = a*b + c\n",
        "print(gradb) # we calculated this earlier\n",
        "print(f\"Original value of b: {b};  Value of a after adding a fraction of the gradient to it: {b-lr*gradb}\")\n",
        "b = b - lr*gradb\n",
        "d2 = a*b + c\n",
        "print(d1,d2)"
      ],
      "metadata": {
        "id": "ipr4__BSJVBW",
        "outputId": "96942c3e-17d1-4fec-93fc-09ddc07e5065",
        "colab": {
          "base_uri": "https://localhost:8080/"
        }
      },
      "execution_count": null,
      "outputs": [
        {
          "output_type": "stream",
          "name": "stdout",
          "text": [
            "2.0001000000124947\n",
            "Original value of b: -3;  Value of a after adding a fraction of the gradient to it: -3.020001000000125\n",
            "4 3.95999799999975\n"
          ]
        }
      ]
    },
    {
      "cell_type": "markdown",
      "source": [
        "###### *The output goes **down** when we **decrease knob b** by a small fraction of the gradient **gradb**.*"
      ],
      "metadata": {
        "id": "3LFtuA3lJgcB"
      }
    },
    {
      "cell_type": "markdown",
      "source": [
        "###### Lets subtract a fraction of the gradient **gradc** to  **variable c**  and see how the function responds"
      ],
      "metadata": {
        "id": "l1uMHcgeJ3Rr"
      }
    },
    {
      "cell_type": "code",
      "source": [
        "a = 2\n",
        "b = -3\n",
        "c = 10\n",
        "lr = .01\n",
        "d1 = a*b + c\n",
        "print(gradc) # we calculated this earlier\n",
        "print(f\"Original value of c: {c};  Value of a after adding a fraction of the gradient to it: {c-lr*gradc}\")\n",
        "c = c - lr*gradc\n",
        "d2 = a*b + c\n",
        "print(d1,d2)"
      ],
      "metadata": {
        "id": "GHxWFLYYJ8ue",
        "outputId": "3458146c-1ac6-4c13-a062-f418c6fdc473",
        "colab": {
          "base_uri": "https://localhost:8080/"
        }
      },
      "execution_count": null,
      "outputs": [
        {
          "output_type": "stream",
          "name": "stdout",
          "text": [
            "0.9999999999976694\n",
            "Original value of c: 10;  Value of a after adding a fraction of the gradient to it: 9.990000000000023\n",
            "4 3.9900000000000233\n"
          ]
        }
      ]
    },
    {
      "cell_type": "markdown",
      "source": [
        "###### *The output goes **down** when we **decrease knob c** by a small fraction of the gradient **gradc**.*"
      ],
      "metadata": {
        "id": "lLLz06L0KFBo"
      }
    },
    {
      "cell_type": "markdown",
      "source": [
        "##### **Our finding from this:** The function output **decreased** when we **individually decreased** each variable by a **fraction of the gradient** with respect to that variable"
      ],
      "metadata": {
        "id": "M9npwyQbNuNh"
      }
    },
    {
      "cell_type": "markdown",
      "source": [
        "\n",
        "\n",
        "#### In Summary, if we want to know which direction to tweak all the variables (knobs) of a function to **increase** the output of a function, we just need to **add to each variable**, **the gradient** (or a fraction of it) of the function **with respect to that variable**.\n",
        "\n",
        "#### Conversely, to **decrease** the output of a function, we just need to **subtract** from  each variable, the **gradient** (or a fraction of it) of the function **with respect to that variable.**\n",
        "\n",
        "#### This fact is very useful when we train a neural network, which is a function with many knobs (variables) to tweak. During training, the output of a neural network is passed as input to another function, often called the loss function, which compares how far off the output of the neural network is from the true (ground truth) value (the second input to the loss function).\n",
        "\n",
        "#### So during training a neural network is one big function where the output is from the loss function which in turn depends on the neural network function for its input. The loss function is discarded after training - we just use the neural network function.  \n",
        "\n",
        "#### The lower the output of the loss function, the better. So we tweak the variables of the neural network so that the loss function output is lowered. That is, we subtract the gradient (a fraction of it) of the loss function (with respect to each variable) from each variable.\n",
        "\n",
        "#### In practice, the amount to subtract is found much more efficiently than the method described above, by an efficient algorithm called **backpropagation**.  Backpropagation algorithm does what we did in this notebook, except in an efficient manner.\n",
        "\n",
        "#### The actual variable tweaking, or subtraction step that we did above, is done by an optimization algorithm like **gradient descent**. The optimization algorithm determines how much to subtract during each step of the training etc.\n"
      ],
      "metadata": {
        "id": "W3mMT_Q_O0-h"
      }
    },
    {
      "cell_type": "markdown",
      "source": [
        "This notebook is based on and inspired by  [Andrej Karpathys video](https://youtu.be/VMj-3S1tku0)"
      ],
      "metadata": {
        "id": "9pv6EiT0SboO"
      }
    }
  ]
}