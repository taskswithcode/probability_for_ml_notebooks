{
  "nbformat": 4,
  "nbformat_minor": 0,
  "metadata": {
    "colab": {
      "name": "MLKnobs.ipynb",
      "provenance": [],
      "include_colab_link": true
    },
    "kernelspec": {
      "name": "python3",
      "display_name": "Python 3"
    },
    "language_info": {
      "name": "python"
    }
  },
  "cells": [
    {
      "cell_type": "markdown",
      "metadata": {
        "id": "view-in-github",
        "colab_type": "text"
      },
      "source": [
        "<a href=\"https://colab.research.google.com/github/taskswithcode/probability_for_ml_notebooks/blob/main/MLKnobs.ipynb\" target=\"_parent\"><img src=\"https://colab.research.google.com/assets/colab-badge.svg\" alt=\"Open In Colab\"/></a>"
      ]
    },
    {
      "cell_type": "markdown",
      "source": [
        "**How do Neural Networks Learn? (with just arithmetic - no Calculus)**"
      ],
      "metadata": {
        "id": "yqtpHlbk2ehd"
      }
    },
    {
      "cell_type": "markdown",
      "source": [
        "#### 1. A function with three **knobs (variables)** that control the output value"
      ],
      "metadata": {
        "id": "2PVhRppdQmdp"
      }
    },
    {
      "cell_type": "code",
      "source": [
        "a = 2\n",
        "b = -3\n",
        "c = 10\n",
        "value = a * b + c\n",
        "value"
      ],
      "metadata": {
        "colab": {
          "base_uri": "https://localhost:8080/"
        },
        "id": "W59Qt3A2zwT8",
        "outputId": "359dc07e-2b5d-4471-ab28-ca90da1c68fc"
      },
      "execution_count": null,
      "outputs": [
        {
          "output_type": "execute_result",
          "data": {
            "text/plain": [
              "4"
            ]
          },
          "metadata": {},
          "execution_count": 151
        }
      ]
    },
    {
      "cell_type": "markdown",
      "source": [
        "##### We are first going to change these knobs individually by a fixed value **h**"
      ],
      "metadata": {
        "id": "1BYTcWMdz08A"
      }
    },
    {
      "cell_type": "code",
      "source": [
        "h = .0001 #constant value used to change each variable separately below"
      ],
      "metadata": {
        "id": "Zg44i3VczzrA"
      },
      "execution_count": null,
      "outputs": []
    },
    {
      "cell_type": "markdown",
      "source": [
        "###### Lets change **variable a** first and see how the function responds"
      ],
      "metadata": {
        "id": "3wz1XqWM1GXD"
      }
    },
    {
      "cell_type": "code",
      "source": [
        "d1 = a*b+c\n",
        "print(a,a+h)\n",
        "a = a + h\n",
        "d2 = a*b + c\n",
        "print(d1,d2)"
      ],
      "metadata": {
        "colab": {
          "base_uri": "https://localhost:8080/"
        },
        "id": "ge0sJNIr0Btk",
        "outputId": "6ea73966-001e-456b-b9b4-bb67c3ad816c"
      },
      "execution_count": null,
      "outputs": [
        {
          "output_type": "stream",
          "name": "stdout",
          "text": [
            "2 2.0001\n",
            "4 3.999699999999999\n"
          ]
        }
      ]
    },
    {
      "cell_type": "markdown",
      "source": [
        "*When we **changed variable a** by adding a tiny amount **h**, the function output went **down** a little. So **increasing variable a decreases** output*"
      ],
      "metadata": {
        "id": "dYxgxRw90R-v"
      }
    },
    {
      "cell_type": "code",
      "source": [
        "grada = (d2-d1)/h\n",
        "grada"
      ],
      "metadata": {
        "colab": {
          "base_uri": "https://localhost:8080/"
        },
        "id": "S-xLmoGm0dJ0",
        "outputId": "154874d3-1c60-40fc-d863-dcfe1511bf32"
      },
      "execution_count": null,
      "outputs": [
        {
          "output_type": "execute_result",
          "data": {
            "text/plain": [
              "-3.000000000010772"
            ]
          },
          "metadata": {},
          "execution_count": 139
        }
      ]
    },
    {
      "cell_type": "markdown",
      "source": [
        "*This value captures the **rate of change** of function output when we changed the value of **variable a**. We will use it below*"
      ],
      "metadata": {
        "id": "n1Did-qq0ijf"
      }
    },
    {
      "cell_type": "markdown",
      "source": [
        "###### Lets change **variable b** and see how the function responds"
      ],
      "metadata": {
        "id": "t-sliC4B26Mx"
      }
    },
    {
      "cell_type": "code",
      "source": [
        "d1 = a*b+c\n",
        "print(b,b+h)\n",
        "b = b + h\n",
        "d2 = a*b + c\n",
        "print(d1,d2)"
      ],
      "metadata": {
        "colab": {
          "base_uri": "https://localhost:8080/"
        },
        "id": "05UrpU0i3AhM",
        "outputId": "2e677173-796d-418e-daf8-ece49c778bf6"
      },
      "execution_count": null,
      "outputs": [
        {
          "output_type": "stream",
          "name": "stdout",
          "text": [
            "-3 -2.9999\n",
            "3.999699999999999 3.99990001\n"
          ]
        }
      ]
    },
    {
      "cell_type": "markdown",
      "source": [
        "*When we **changed variable b** by adding a tiny amount **h**, the function output went **up** a little. So **increasing variable b increases** output*"
      ],
      "metadata": {
        "id": "vAeZZQWK3fct"
      }
    },
    {
      "cell_type": "code",
      "source": [
        "gradb = (d2-d1)/h\n",
        "gradb"
      ],
      "metadata": {
        "colab": {
          "base_uri": "https://localhost:8080/"
        },
        "id": "69Y191k85NKV",
        "outputId": "9e21bc32-7ded-457e-b6c6-bf0a3eb1613c"
      },
      "execution_count": null,
      "outputs": [
        {
          "output_type": "execute_result",
          "data": {
            "text/plain": [
              "2.0001000000124947"
            ]
          },
          "metadata": {},
          "execution_count": 141
        }
      ]
    },
    {
      "cell_type": "markdown",
      "source": [
        "*This value captures the **rate of change** of function output when we changed the value of **variable b**. We will use it below*"
      ],
      "metadata": {
        "id": "rLw7r9za5SOp"
      }
    },
    {
      "cell_type": "markdown",
      "source": [
        "###### Lets change **variable c** and see how the function responds"
      ],
      "metadata": {
        "id": "xzAanbVc4jyi"
      }
    },
    {
      "cell_type": "code",
      "source": [
        "d1 = a*b+c\n",
        "print(c,c+h)\n",
        "c = c + h\n",
        "d2 = a*b + c\n",
        "print(d1,d2)"
      ],
      "metadata": {
        "colab": {
          "base_uri": "https://localhost:8080/"
        },
        "id": "Bhq4kLIk4mqb",
        "outputId": "52078e96-dc0d-40fb-ec8e-87cad85d33d4"
      },
      "execution_count": null,
      "outputs": [
        {
          "output_type": "stream",
          "name": "stdout",
          "text": [
            "10 10.0001\n",
            "3.99990001 4.00000001\n"
          ]
        }
      ]
    },
    {
      "cell_type": "markdown",
      "source": [
        "*When we **changed variable c** by adding a tiny amount **h**, the function output went **up** by same amount. So **increasing variable c increases** output*"
      ],
      "metadata": {
        "id": "UzTDhfNF4wCW"
      }
    },
    {
      "cell_type": "code",
      "source": [
        "gradc = (d2-d1)/h\n",
        "gradc"
      ],
      "metadata": {
        "colab": {
          "base_uri": "https://localhost:8080/"
        },
        "id": "Fq_Wf_oQ54Hu",
        "outputId": "1d0fe4f9-2099-4359-d2d1-bbed8d23923f"
      },
      "execution_count": null,
      "outputs": [
        {
          "output_type": "execute_result",
          "data": {
            "text/plain": [
              "0.9999999999976694"
            ]
          },
          "metadata": {},
          "execution_count": 143
        }
      ]
    },
    {
      "cell_type": "markdown",
      "source": [
        "*This value captures the **rate of change** of function output when we changed the value of **variable c**. We will use it below*"
      ],
      "metadata": {
        "id": "G0C2NUzv59P0"
      }
    },
    {
      "cell_type": "markdown",
      "source": [
        "##### **Finding so far:** When we **increased two knobs (b and c)** the output went **up**, whereas when we **increased  knob a** the output went **down**.\n",
        "\n",
        "How can we know ***which direction to turn the knobs*** so the function output ***increases*** (or decreases) ?\n",
        "\n",
        "The rate of change of the function we calculated above ***(grada,gradb,gradc)*** with respect to each variable is useful for this. It tells which direction to tweak a knob.\n",
        "\n",
        "The ***rate of change of a function*** with respect to a variable is often called ***gradient or slope of the function*** with respect to that variable.\n"
      ],
      "metadata": {
        "id": "FaJHbt5P6yml"
      }
    },
    {
      "cell_type": "markdown",
      "source": [
        "##### We are now going to **change** these knobs individually **adding** by a small fraction of the gradients computed above"
      ],
      "metadata": {
        "id": "vmYSyMe_8MDI"
      }
    },
    {
      "cell_type": "code",
      "source": [
        "lr = .01 #this is the fraction of the gradients we are going to take"
      ],
      "metadata": {
        "id": "ynMOOGZ-8Zj2"
      },
      "execution_count": null,
      "outputs": []
    },
    {
      "cell_type": "markdown",
      "source": [
        "###### Lets add a fraction of the gradient **grada** to  **variable a**  and see how the function responds"
      ],
      "metadata": {
        "id": "Dz8r0r9tFP9l"
      }
    },
    {
      "cell_type": "code",
      "source": [
        "a = 2\n",
        "b = -3\n",
        "c = 10\n",
        "lr = .01\n",
        "d1 = a*b + c\n",
        "print(grada) # we calculated this earlier\n",
        "print(f\"Original value of a: {a};  Value of a after adding a fraction of the gradient to it: {a+lr*grada}\")\n",
        "a = a + lr*grada #We increase \"a\" by a small fraction of the gradient\n",
        "d2 = a*b + c\n",
        "print(d1,d2)"
      ],
      "metadata": {
        "colab": {
          "base_uri": "https://localhost:8080/"
        },
        "id": "gAmngXXw8roj",
        "outputId": "6afd93ba-0b66-41dd-e9bf-518a662ce816"
      },
      "execution_count": null,
      "outputs": [
        {
          "output_type": "stream",
          "name": "stdout",
          "text": [
            "-3.000000000010772\n",
            "Original value of a: 2;  Value of a after adding a fraction of the gradient to it: 1.9699999999998923\n",
            "4 4.090000000000323\n"
          ]
        }
      ]
    },
    {
      "cell_type": "markdown",
      "source": [
        "###### The output goes **up** when we changed **knob a** by adding a small fraction of the gradient **grada**. Note, the output when **down** before when we **changed a** by adding a small amount h. The reason it goes up now when we change it by a small fraction of the gradient is, when we are adding a fraction of the gradient to **a**, we are **effectively decreasing the value of a**. This is because the gradient is **negative**\n",
        "See the value of **a** before and after adding the *fraction of the gradient* - it goes down from 2 to 1.9699999999998923"
      ],
      "metadata": {
        "id": "ZrpsoTBFCxz2"
      }
    },
    {
      "cell_type": "markdown",
      "source": [
        "###### Lets add a fraction of the gradient **gradb** to  **variable b**  and see how the function responds"
      ],
      "metadata": {
        "id": "pspxlRP6Fpy6"
      }
    },
    {
      "cell_type": "code",
      "source": [
        "a = 2\n",
        "b = -3\n",
        "c = 10\n",
        "lr = .01\n",
        "d1 = a*b + c\n",
        "print(gradb) # we calculated this earlier\n",
        "print(f\"Original value of b: {b};  Value of a after adding a fraction of the gradient to it: {b+lr*gradb}\")\n",
        "b = b + lr*gradb\n",
        "d2 = a*b + c\n",
        "print(d1,d2)"
      ],
      "metadata": {
        "colab": {
          "base_uri": "https://localhost:8080/"
        },
        "id": "G54WDJwMFsUk",
        "outputId": "01c43b75-ba71-484d-db91-721ce29caa91"
      },
      "execution_count": null,
      "outputs": [
        {
          "output_type": "stream",
          "name": "stdout",
          "text": [
            "2.0001000000124947\n",
            "Original value of b: -3;  Value of a after adding a fraction of the gradient to it: -2.979998999999875\n",
            "4 4.04000200000025\n"
          ]
        }
      ]
    },
    {
      "cell_type": "markdown",
      "source": [
        "###### *The output goes **up** when we change **knob b** by adding a small fraction of the gradient **gradb**.*"
      ],
      "metadata": {
        "id": "91mLL6cOGDk4"
      }
    },
    {
      "cell_type": "markdown",
      "source": [
        "###### Lets add a fraction of the gradient **gradc** to  **variable c**  and see how the function responds"
      ],
      "metadata": {
        "id": "7IXmWDtqGMoe"
      }
    },
    {
      "cell_type": "code",
      "source": [
        "a = 2\n",
        "b = -3\n",
        "c = 10\n",
        "lr = .01\n",
        "d1 = a*b + c\n",
        "print(gradc) # we calculated this earlier\n",
        "print(f\"Original value of c: {c};  Value of a after adding a fraction of the gradient to it: {c+lr*gradc}\")\n",
        "c = c + lr*gradc\n",
        "d2 = a*b + c\n",
        "print(d1,d2)"
      ],
      "metadata": {
        "colab": {
          "base_uri": "https://localhost:8080/"
        },
        "id": "qtLaBkhYGUlv",
        "outputId": "71ea7a7f-57d9-4b75-9340-848ec7071d9c"
      },
      "execution_count": null,
      "outputs": [
        {
          "output_type": "stream",
          "name": "stdout",
          "text": [
            "0.9999999999976694\n",
            "Original value of c: 10;  Value of a after adding a fraction of the gradient to it: 10.009999999999977\n",
            "4 4.009999999999977\n"
          ]
        }
      ]
    },
    {
      "cell_type": "markdown",
      "source": [
        "###### *The output goes **up** when we change **knob c** by adding a small fraction of the gradient **gradc**.*"
      ],
      "metadata": {
        "id": "01vr1gOOGiZm"
      }
    },
    {
      "cell_type": "markdown",
      "source": [
        "##### **Finding so far:** The function output **increased** when we **individually changed** each variable by adding a **fraction of the gradient** with respect to that variable"
      ],
      "metadata": {
        "id": "Vu3qPJnnNUQ2"
      }
    },
    {
      "cell_type": "markdown",
      "source": [
        "##### We are now going to **change** these knobs individually by **subtracting** a small fraction of the gradients computed above"
      ],
      "metadata": {
        "id": "UqH-SvTQHJ6N"
      }
    },
    {
      "cell_type": "markdown",
      "source": [
        "###### Lets subtract a fraction of the gradient **grada** from  **variable a**  and see how the function responds"
      ],
      "metadata": {
        "id": "nZwQsb91JtL6"
      }
    },
    {
      "cell_type": "code",
      "source": [
        "a = 2\n",
        "b = -3\n",
        "c = 10\n",
        "lr = .01\n",
        "d1 = a*b + c\n",
        "print(grada) # we calculated this earlier\n",
        "print(f\"Original value of a: {a};  Value of a after adding a fraction of the gradient to it: {a-lr*grada}\")\n",
        "a = a - lr*grada #We increase \"a\" by a small fraction of the gradient\n",
        "d2 = a*b + c\n",
        "print(d1,d2)"
      ],
      "metadata": {
        "colab": {
          "base_uri": "https://localhost:8080/"
        },
        "id": "D75OKY-VIvXv",
        "outputId": "474a7b8a-a3f4-4e17-a002-f930bd6cad1d"
      },
      "execution_count": null,
      "outputs": [
        {
          "output_type": "stream",
          "name": "stdout",
          "text": [
            "-3.000000000010772\n",
            "Original value of a: 2;  Value of a after adding a fraction of the gradient to it: 2.0300000000001077\n",
            "4 3.909999999999677\n"
          ]
        }
      ]
    },
    {
      "cell_type": "markdown",
      "source": [
        "###### *The output goes **down** when we **change knob a** by subtracting a small fraction of the gradient **grada**.*"
      ],
      "metadata": {
        "id": "cwsdQYzpI91j"
      }
    },
    {
      "cell_type": "markdown",
      "source": [
        "###### Lets subtract a fraction of the gradient **gradb** from  **variable b**  and see how the function responds"
      ],
      "metadata": {
        "id": "iqJfMV7WJzFn"
      }
    },
    {
      "cell_type": "code",
      "source": [
        "a = 2\n",
        "b = -3\n",
        "c = 10\n",
        "lr = .01\n",
        "d1 = a*b + c\n",
        "print(gradb) # we calculated this earlier\n",
        "print(f\"Original value of b: {b};  Value of a after adding a fraction of the gradient to it: {b-lr*gradb}\")\n",
        "b = b - lr*gradb\n",
        "d2 = a*b + c\n",
        "print(d1,d2)"
      ],
      "metadata": {
        "colab": {
          "base_uri": "https://localhost:8080/"
        },
        "id": "ipr4__BSJVBW",
        "outputId": "e3f57eef-a56e-46e2-e9f4-a4bfe6ef46f6"
      },
      "execution_count": null,
      "outputs": [
        {
          "output_type": "stream",
          "name": "stdout",
          "text": [
            "2.0001000000124947\n",
            "Original value of b: -3;  Value of a after adding a fraction of the gradient to it: -3.020001000000125\n",
            "4 3.95999799999975\n"
          ]
        }
      ]
    },
    {
      "cell_type": "markdown",
      "source": [
        "###### *The output goes **down** when we **change knob b** by subtracting a small fraction of the gradient **gradb**.*"
      ],
      "metadata": {
        "id": "3LFtuA3lJgcB"
      }
    },
    {
      "cell_type": "markdown",
      "source": [
        "###### Lets subtract a fraction of the gradient **gradc** to  **variable c**  and see how the function responds"
      ],
      "metadata": {
        "id": "l1uMHcgeJ3Rr"
      }
    },
    {
      "cell_type": "code",
      "source": [
        "a = 2\n",
        "b = -3\n",
        "c = 10\n",
        "lr = .01\n",
        "d1 = a*b + c\n",
        "print(gradc) # we calculated this earlier\n",
        "print(f\"Original value of c: {c};  Value of a after adding a fraction of the gradient to it: {c-lr*gradc}\")\n",
        "c = c - lr*gradc\n",
        "d2 = a*b + c\n",
        "print(d1,d2)"
      ],
      "metadata": {
        "colab": {
          "base_uri": "https://localhost:8080/"
        },
        "id": "GHxWFLYYJ8ue",
        "outputId": "bd17d5bc-34fb-4f15-e68b-60818306c2e3"
      },
      "execution_count": null,
      "outputs": [
        {
          "output_type": "stream",
          "name": "stdout",
          "text": [
            "0.9999999999976694\n",
            "Original value of c: 10;  Value of a after adding a fraction of the gradient to it: 9.990000000000023\n",
            "4 3.9900000000000233\n"
          ]
        }
      ]
    },
    {
      "cell_type": "markdown",
      "source": [
        "###### *The output goes **down** when we **change knob c** by subtracting a small fraction of the gradient **gradc**.*"
      ],
      "metadata": {
        "id": "lLLz06L0KFBo"
      }
    },
    {
      "cell_type": "markdown",
      "source": [
        "##### **Finding so far:** The function output **decreased** when we **individually changed** each variable by subtracting a **fraction of the gradient** with respect to that variable"
      ],
      "metadata": {
        "id": "M9npwyQbNuNh"
      }
    },
    {
      "cell_type": "markdown",
      "source": [
        "\n",
        "\n",
        "\n",
        "---\n",
        "\n",
        "\n",
        "\n",
        "#### In Summary if we want to know which direction to tweak all the variables (knobs) of a function to **increase** the output of a function, we just need to **add to each variable**, **the gradient** (or a fraction of it) of the function **with respect to that variable**.\n",
        "\n",
        "#### Conversely, to **decrease** the output of a function, we just need to **subtract** from  each variable, the **gradient** (or a fraction of it) of the function **with respect to that variable.**\n",
        "\n",
        "#### The gradient of a variable has two pieces of information to increase (or decrease) a function's output. It contains the direction to tweak a variable, and how much to tweak a variable.\n",
        "\n",
        "#### This fact is very useful when we train a neural network, which is essentially a function with many knobs (variables). During training, the output of a neural network is passed as input to another function, often called the loss function, which compares how far off the output of the neural network is from the true (ground truth) value.\n",
        "\n",
        "#### The lower the output of the loss function, the better. So we want to tweak the variables of the neural network so that the loss function output is lowered. We achieve this by subtracting the gradient (a fraction of it) of the loss function (with respect to each variable) from each variable. Once trained, the loss function is discared - only the neural network is used.\n",
        "\n",
        "#### The gradient for each variable is found by an efficient algorithm called **backpropagation**, which essentially does what we did in this notebook\n",
        "\n",
        "#### The update of each variable with the gradient is done by an optimization algorithm called **gradient descent**.\n"
      ],
      "metadata": {
        "id": "W3mMT_Q_O0-h"
      }
    },
    {
      "cell_type": "markdown",
      "source": [
        "\n",
        "\n",
        "---\n",
        "\n",
        "Additional notes. The above argument applies no matter how many knobs a function has, or how complex the function is. For instance, in the example below, the output function depends both directly on some knobs but also another function which in turn depends on few other knobs that are not directly present in the output function. The same observations as above applies."
      ],
      "metadata": {
        "id": "idlba-bWBIh1"
      }
    },
    {
      "cell_type": "code",
      "source": [
        "h = .1\n",
        "a = 1\n",
        "b = -1\n",
        "c = -2\n",
        "d = 3\n",
        "e = -2\n",
        "f = d*e*c\n",
        "d1 = a*b*f # d is only used indirectly through f in the output function\n",
        "print(d,d+h)\n",
        "d = d + h\n",
        "f = d*e*c\n",
        "d2 = a*b*f\n",
        "print(d1,d2)"
      ],
      "metadata": {
        "colab": {
          "base_uri": "https://localhost:8080/"
        },
        "id": "pAodIr_lBlwV",
        "outputId": "a5889b53-3578-47dc-f165-36ee6e21d67a"
      },
      "execution_count": null,
      "outputs": [
        {
          "output_type": "stream",
          "name": "stdout",
          "text": [
            "3 3.1\n",
            "-12 -12.4\n"
          ]
        }
      ]
    },
    {
      "cell_type": "code",
      "source": [
        "gradd = (d2-d1)/h\n",
        "gradd"
      ],
      "metadata": {
        "colab": {
          "base_uri": "https://localhost:8080/"
        },
        "id": "QuPgDw1jBp07",
        "outputId": "f3c03306-4184-4b23-913a-b8f83e5bf8aa"
      },
      "execution_count": null,
      "outputs": [
        {
          "output_type": "execute_result",
          "data": {
            "text/plain": [
              "-4.0000000000000036"
            ]
          },
          "metadata": {},
          "execution_count": 147
        }
      ]
    },
    {
      "cell_type": "code",
      "source": [
        "h = .1\n",
        "a = 1\n",
        "b = -1\n",
        "c = -2\n",
        "d = 3\n",
        "e = -2\n",
        "lr = .01\n",
        "f = d*e*c\n",
        "d1 = a*b*f\n",
        "print(d,d + lr*gradd)\n",
        "d = d + lr*gradd\n",
        "f = d*e*c\n",
        "d2 = a*b*f\n",
        "print(d1,d2)"
      ],
      "metadata": {
        "colab": {
          "base_uri": "https://localhost:8080/"
        },
        "id": "ItP3amp4BxGs",
        "outputId": "b0fb80b0-4fe6-49a1-cd22-c70bc415dd30"
      },
      "execution_count": null,
      "outputs": [
        {
          "output_type": "stream",
          "name": "stdout",
          "text": [
            "3 2.96\n",
            "-12 -11.84\n"
          ]
        }
      ]
    },
    {
      "cell_type": "code",
      "source": [
        "h = .1\n",
        "a = 1\n",
        "b = -1\n",
        "c = -2\n",
        "d = 3\n",
        "e = -2\n",
        "lr = .01\n",
        "f = d*e*c\n",
        "d1 = a*b*f\n",
        "print(d,d - lr*gradd)\n",
        "d = d - lr*gradd\n",
        "f = d*e*c\n",
        "d2 = a*b*f\n",
        "print(d1,d2)"
      ],
      "metadata": {
        "colab": {
          "base_uri": "https://localhost:8080/"
        },
        "id": "EdNqgKbABsVJ",
        "outputId": "268e76de-0a34-4f98-cb92-e7741e8c692f"
      },
      "execution_count": null,
      "outputs": [
        {
          "output_type": "stream",
          "name": "stdout",
          "text": [
            "3 3.04\n",
            "-12 -12.16\n"
          ]
        }
      ]
    }
  ]
}