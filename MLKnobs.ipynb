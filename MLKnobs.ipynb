{
  "nbformat": 4,
  "nbformat_minor": 0,
  "metadata": {
    "colab": {
      "name": "MLKnobs.ipynb",
      "provenance": [],
      "include_colab_link": true
    },
    "kernelspec": {
      "name": "python3",
      "display_name": "Python 3"
    },
    "language_info": {
      "name": "python"
    }
  },
  "cells": [
    {
      "cell_type": "markdown",
      "metadata": {
        "id": "view-in-github",
        "colab_type": "text"
      },
      "source": [
        "<a href=\"https://colab.research.google.com/github/taskswithcode/probability_for_ml_notebooks/blob/main/MLKnobs.ipynb\" target=\"_parent\"><img src=\"https://colab.research.google.com/assets/colab-badge.svg\" alt=\"Open In Colab\"/></a>"
      ]
    },
    {
      "cell_type": "markdown",
      "source": [
        "**How do Neural Networks Learn? (with just arithmetic - no Calculus)**"
      ],
      "metadata": {
        "id": "yqtpHlbk2ehd"
      }
    },
    {
      "cell_type": "markdown",
      "source": [
        "#### 1. A function with three **knobs (variables)** that control the output value"
      ],
      "metadata": {
        "id": "2PVhRppdQmdp"
      }
    },
    {
      "cell_type": "code",
      "source": [
        "a = 2\n",
        "b = -3\n",
        "c = 10\n",
        "value = a * b + c\n",
        "value"
      ],
      "metadata": {
        "colab": {
          "base_uri": "https://localhost:8080/"
        },
        "id": "W59Qt3A2zwT8",
        "outputId": "67d22f25-4e41-432f-e1ad-73d68e4c446b"
      },
      "execution_count": 171,
      "outputs": [
        {
          "output_type": "execute_result",
          "data": {
            "text/plain": [
              "4"
            ]
          },
          "metadata": {},
          "execution_count": 171
        }
      ]
    },
    {
      "cell_type": "markdown",
      "source": [
        "##### We are first going to change these knobs individually by a fixed value **h**"
      ],
      "metadata": {
        "id": "1BYTcWMdz08A"
      }
    },
    {
      "cell_type": "code",
      "source": [
        "h = .0001 #constant value used to change each variable separately below"
      ],
      "metadata": {
        "id": "Zg44i3VczzrA"
      },
      "execution_count": null,
      "outputs": []
    },
    {
      "cell_type": "markdown",
      "source": [
        "###### Lets change **variable a** first and see how the function responds"
      ],
      "metadata": {
        "id": "3wz1XqWM1GXD"
      }
    },
    {
      "cell_type": "code",
      "source": [
        "d1 = a*b+c\n",
        "print(a,a+h)\n",
        "a = a + h\n",
        "d2 = a*b + c\n",
        "print(d1,d2)"
      ],
      "metadata": {
        "colab": {
          "base_uri": "https://localhost:8080/"
        },
        "id": "ge0sJNIr0Btk",
        "outputId": "6d45bb0c-e9f3-4a41-b451-630852816d4c"
      },
      "execution_count": 172,
      "outputs": [
        {
          "output_type": "stream",
          "name": "stdout",
          "text": [
            "2 2.1\n",
            "4 3.6999999999999993\n"
          ]
        }
      ]
    },
    {
      "cell_type": "markdown",
      "source": [
        "*When we **changed variable a** by adding a tiny amount **h**, the function output went **down** a little. So **increasing variable a decreases** the output*"
      ],
      "metadata": {
        "id": "dYxgxRw90R-v"
      }
    },
    {
      "cell_type": "code",
      "source": [
        "GradA = (d2-d1)/h\n",
        "GradA"
      ],
      "metadata": {
        "colab": {
          "base_uri": "https://localhost:8080/"
        },
        "id": "S-xLmoGm0dJ0",
        "outputId": "d7b36bb1-e9c2-4731-873f-016206dd2597"
      },
      "execution_count": 173,
      "outputs": [
        {
          "output_type": "execute_result",
          "data": {
            "text/plain": [
              "-3.000000000000007"
            ]
          },
          "metadata": {},
          "execution_count": 173
        }
      ]
    },
    {
      "cell_type": "markdown",
      "source": [
        "*This value captures the **rate of change** of function output when we changed the value of **variable a**. We will use it below*"
      ],
      "metadata": {
        "id": "n1Did-qq0ijf"
      }
    },
    {
      "cell_type": "markdown",
      "source": [
        "###### Lets change **variable b** and see how the function responds"
      ],
      "metadata": {
        "id": "t-sliC4B26Mx"
      }
    },
    {
      "cell_type": "code",
      "source": [
        "d1 = a*b+c\n",
        "print(b,b+h)\n",
        "b = b + h\n",
        "d2 = a*b + c\n",
        "print(d1,d2)"
      ],
      "metadata": {
        "colab": {
          "base_uri": "https://localhost:8080/"
        },
        "id": "05UrpU0i3AhM",
        "outputId": "57a639b8-ca5a-41e1-a1c7-fd2f90f2a6cc"
      },
      "execution_count": 174,
      "outputs": [
        {
          "output_type": "stream",
          "name": "stdout",
          "text": [
            "-3 -2.9\n",
            "3.6999999999999993 3.91\n"
          ]
        }
      ]
    },
    {
      "cell_type": "markdown",
      "source": [
        "*When we **changed variable b** by adding a tiny amount **h**, the function output went **up** a little. So **increasing variable b increases** the output*"
      ],
      "metadata": {
        "id": "vAeZZQWK3fct"
      }
    },
    {
      "cell_type": "code",
      "source": [
        "GradB = (d2-d1)/h\n",
        "GradB"
      ],
      "metadata": {
        "colab": {
          "base_uri": "https://localhost:8080/"
        },
        "id": "69Y191k85NKV",
        "outputId": "48cf72fd-bc26-4bd3-faf9-1e10c8c90656"
      },
      "execution_count": 175,
      "outputs": [
        {
          "output_type": "execute_result",
          "data": {
            "text/plain": [
              "2.1000000000000085"
            ]
          },
          "metadata": {},
          "execution_count": 175
        }
      ]
    },
    {
      "cell_type": "markdown",
      "source": [
        "*This value captures the **rate of change** of function output when we changed the value of **variable b**. We will use it below*"
      ],
      "metadata": {
        "id": "rLw7r9za5SOp"
      }
    },
    {
      "cell_type": "markdown",
      "source": [
        "###### Lets change **variable c** and see how the function responds"
      ],
      "metadata": {
        "id": "xzAanbVc4jyi"
      }
    },
    {
      "cell_type": "code",
      "source": [
        "d1 = a*b+c\n",
        "print(c,c+h)\n",
        "c = c + h\n",
        "d2 = a*b + c\n",
        "print(d1,d2)"
      ],
      "metadata": {
        "colab": {
          "base_uri": "https://localhost:8080/"
        },
        "id": "Bhq4kLIk4mqb",
        "outputId": "22d43fa2-2779-41c2-de05-693970c3c6f7"
      },
      "execution_count": 176,
      "outputs": [
        {
          "output_type": "stream",
          "name": "stdout",
          "text": [
            "10 10.1\n",
            "3.91 4.01\n"
          ]
        }
      ]
    },
    {
      "cell_type": "markdown",
      "source": [
        "*When we **changed variable c** by adding a tiny amount **h**, the function output went **up** by same amount. So **increasing variable c increases** the output*"
      ],
      "metadata": {
        "id": "UzTDhfNF4wCW"
      }
    },
    {
      "cell_type": "code",
      "source": [
        "GradC = (d2-d1)/h\n",
        "GradC"
      ],
      "metadata": {
        "colab": {
          "base_uri": "https://localhost:8080/"
        },
        "id": "Fq_Wf_oQ54Hu",
        "outputId": "7dc0175d-fb8e-4846-d175-4ddadb9d62ec"
      },
      "execution_count": 177,
      "outputs": [
        {
          "output_type": "execute_result",
          "data": {
            "text/plain": [
              "0.9999999999999964"
            ]
          },
          "metadata": {},
          "execution_count": 177
        }
      ]
    },
    {
      "cell_type": "markdown",
      "source": [
        "*This value captures the **rate of change** of function output when we changed the value of **variable c**. We will use it below*"
      ],
      "metadata": {
        "id": "G0C2NUzv59P0"
      }
    },
    {
      "cell_type": "markdown",
      "source": [
        "##### **Finding so far:** When we **increased two knobs (b and c)** the output went **up**, whereas when we **increased  knob a** the output went **down**.\n",
        "\n",
        "How can we know ***which direction to turn the knobs*** so the function output ***increases*** (or decreases) ?\n",
        "\n",
        "The rate of change of the function we calculated above ***(grada,gradb,gradc)*** with respect to each variable is useful for this. It tells which direction to tweak a knob.\n",
        "\n",
        "The ***rate of change of a function*** with respect to a variable is often called ***gradient or slope of the function*** with respect to that variable.\n"
      ],
      "metadata": {
        "id": "FaJHbt5P6yml"
      }
    },
    {
      "cell_type": "markdown",
      "source": [
        "##### We are now going to **change** these knobs individually **adding** by a small fraction of the gradients computed above"
      ],
      "metadata": {
        "id": "vmYSyMe_8MDI"
      }
    },
    {
      "cell_type": "code",
      "source": [
        "lr = .01 #this is the fraction of the gradients we are going to take"
      ],
      "metadata": {
        "id": "ynMOOGZ-8Zj2"
      },
      "execution_count": 178,
      "outputs": []
    },
    {
      "cell_type": "markdown",
      "source": [
        "###### Lets add a fraction of the gradient **GradA** to  **variable a**  and see how the function responds"
      ],
      "metadata": {
        "id": "Dz8r0r9tFP9l"
      }
    },
    {
      "cell_type": "code",
      "source": [
        "a = 2\n",
        "b = -3\n",
        "c = 10\n",
        "lr = .01\n",
        "d1 = a*b + c\n",
        "print(GradA) # we calculated this earlier\n",
        "print(f\"Original value of a: {a};  Value of a after adding a fraction of the gradient to it: {a+lr*grada}\")\n",
        "a = a + lr*GradA #We increase \"a\" by a small fraction of the gradient\n",
        "d2 = a*b + c\n",
        "print(d1,d2)"
      ],
      "metadata": {
        "colab": {
          "base_uri": "https://localhost:8080/"
        },
        "id": "gAmngXXw8roj",
        "outputId": "f1c2235f-6e05-4521-f56a-84303953ba14"
      },
      "execution_count": 179,
      "outputs": [
        {
          "output_type": "stream",
          "name": "stdout",
          "text": [
            "-3.000000000000007\n",
            "Original value of a: 2;  Value of a after adding a fraction of the gradient to it: 1.9699999999998923\n",
            "4 4.09\n"
          ]
        }
      ]
    },
    {
      "cell_type": "markdown",
      "source": [
        "###### The output goes **up** when we changed **knob a** by adding a small fraction of the gradient **GradA**. Note, the output when **down** before when we **changed a** by adding a small amount h. The reason it goes up now when we change it by a small fraction of the gradient is, when we are adding a fraction of the gradient to **a**, we are **effectively decreasing the value of a**. This is because the gradient is **negative**\n",
        "See the value of **a** before and after adding the *fraction of the gradient* - it goes down from 2 to 1.9699999999998923"
      ],
      "metadata": {
        "id": "ZrpsoTBFCxz2"
      }
    },
    {
      "cell_type": "markdown",
      "source": [
        "###### Lets add a fraction of the gradient **GradB** to  **variable b**  and see how the function responds"
      ],
      "metadata": {
        "id": "pspxlRP6Fpy6"
      }
    },
    {
      "cell_type": "code",
      "source": [
        "a = 2\n",
        "b = -3\n",
        "c = 10\n",
        "lr = .01\n",
        "d1 = a*b + c\n",
        "print(GradB) # we calculated this earlier\n",
        "print(f\"Original value of b: {b};  Value of a after adding a fraction of the gradient to it: {b+lr*gradb}\")\n",
        "b = b + lr*GradB\n",
        "d2 = a*b + c\n",
        "print(d1,d2)"
      ],
      "metadata": {
        "colab": {
          "base_uri": "https://localhost:8080/"
        },
        "id": "G54WDJwMFsUk",
        "outputId": "8d288f67-a120-4e9d-e7b9-52b68abf0943"
      },
      "execution_count": 165,
      "outputs": [
        {
          "output_type": "stream",
          "name": "stdout",
          "text": [
            "2.1999999999999975\n",
            "Original value of b: -3;  Value of a after adding a fraction of the gradient to it: -2.979998999999875\n",
            "4 4.044\n"
          ]
        }
      ]
    },
    {
      "cell_type": "markdown",
      "source": [
        "###### *The output goes **up** when we change **knob b** by adding a small fraction of the gradient **GradB**.*"
      ],
      "metadata": {
        "id": "91mLL6cOGDk4"
      }
    },
    {
      "cell_type": "markdown",
      "source": [
        "###### Lets add a fraction of the gradient **GradC** to  **variable c**  and see how the function responds"
      ],
      "metadata": {
        "id": "7IXmWDtqGMoe"
      }
    },
    {
      "cell_type": "code",
      "source": [
        "a = 2\n",
        "b = -3\n",
        "c = 10\n",
        "lr = .01\n",
        "d1 = a*b + c\n",
        "print(GradC) # we calculated this earlier\n",
        "print(f\"Original value of c: {c};  Value of a after adding a fraction of the gradient to it: {c+lr*gradc}\")\n",
        "c = c + lr*GradC\n",
        "d2 = a*b + c\n",
        "print(d1,d2)"
      ],
      "metadata": {
        "colab": {
          "base_uri": "https://localhost:8080/"
        },
        "id": "qtLaBkhYGUlv",
        "outputId": "6a280dd2-02e9-4bfc-8adb-3672263e5623"
      },
      "execution_count": 166,
      "outputs": [
        {
          "output_type": "stream",
          "name": "stdout",
          "text": [
            "0.9999999999999964\n",
            "Original value of c: 10;  Value of a after adding a fraction of the gradient to it: 10.009999999999977\n",
            "4 4.01\n"
          ]
        }
      ]
    },
    {
      "cell_type": "markdown",
      "source": [
        "###### *The output goes **up** when we change **knob c** by adding a small fraction of the gradient **GradC**.*"
      ],
      "metadata": {
        "id": "01vr1gOOGiZm"
      }
    },
    {
      "cell_type": "markdown",
      "source": [
        "##### **Finding so far:** The function output **increased** when we **individually changed** each variable by adding a **fraction of the gradient** with respect to that variable"
      ],
      "metadata": {
        "id": "Vu3qPJnnNUQ2"
      }
    },
    {
      "cell_type": "markdown",
      "source": [
        "##### We are now going to **change** these knobs individually by **subtracting** a small fraction of the gradients computed above"
      ],
      "metadata": {
        "id": "UqH-SvTQHJ6N"
      }
    },
    {
      "cell_type": "markdown",
      "source": [
        "###### Lets subtract a fraction of the gradient **GradA** from  **variable a**  and see how the function responds"
      ],
      "metadata": {
        "id": "nZwQsb91JtL6"
      }
    },
    {
      "cell_type": "code",
      "source": [
        "a = 2\n",
        "b = -3\n",
        "c = 10\n",
        "lr = .01\n",
        "d1 = a*b + c\n",
        "print(GradA) # we calculated this earlier\n",
        "print(f\"Original value of a: {a};  Value of a after adding a fraction of the gradient to it: {a-lr*grada}\")\n",
        "a = a - lr*GradA #We increase \"a\" by a small fraction of the gradient\n",
        "d2 = a*b + c\n",
        "print(d1,d2)"
      ],
      "metadata": {
        "colab": {
          "base_uri": "https://localhost:8080/"
        },
        "id": "D75OKY-VIvXv",
        "outputId": "f0d354d1-5654-4387-d33e-31adc1f85e2b"
      },
      "execution_count": 167,
      "outputs": [
        {
          "output_type": "stream",
          "name": "stdout",
          "text": [
            "-2.9000000000000004\n",
            "Original value of a: 2;  Value of a after adding a fraction of the gradient to it: 2.0300000000001077\n",
            "4 3.9130000000000003\n"
          ]
        }
      ]
    },
    {
      "cell_type": "markdown",
      "source": [
        "###### *The output goes **down** when we **change knob a** by subtracting a small fraction of the gradient **GradA**.*"
      ],
      "metadata": {
        "id": "cwsdQYzpI91j"
      }
    },
    {
      "cell_type": "markdown",
      "source": [
        "###### Lets subtract a fraction of the gradient **GradB** from  **variable b**  and see how the function responds"
      ],
      "metadata": {
        "id": "iqJfMV7WJzFn"
      }
    },
    {
      "cell_type": "code",
      "source": [
        "a = 2\n",
        "b = -3\n",
        "c = 10\n",
        "lr = .01\n",
        "d1 = a*b + c\n",
        "print(GradB) # we calculated this earlier\n",
        "print(f\"Original value of b: {b};  Value of a after adding a fraction of the gradient to it: {b-lr*gradb}\")\n",
        "b = b - lr*GradB\n",
        "d2 = a*b + c\n",
        "print(d1,d2)"
      ],
      "metadata": {
        "colab": {
          "base_uri": "https://localhost:8080/"
        },
        "id": "ipr4__BSJVBW",
        "outputId": "df7ae094-9736-4ff0-9dc0-4025175f329b"
      },
      "execution_count": 168,
      "outputs": [
        {
          "output_type": "stream",
          "name": "stdout",
          "text": [
            "2.1999999999999975\n",
            "Original value of b: -3;  Value of a after adding a fraction of the gradient to it: -3.020001000000125\n",
            "4 3.9560000000000004\n"
          ]
        }
      ]
    },
    {
      "cell_type": "markdown",
      "source": [
        "###### *The output goes **down** when we **change knob b** by subtracting a small fraction of the gradient **GradB**.*"
      ],
      "metadata": {
        "id": "3LFtuA3lJgcB"
      }
    },
    {
      "cell_type": "markdown",
      "source": [
        "###### Lets subtract a fraction of the gradient **GradC** to  **variable c**  and see how the function responds"
      ],
      "metadata": {
        "id": "l1uMHcgeJ3Rr"
      }
    },
    {
      "cell_type": "code",
      "source": [
        "a = 2\n",
        "b = -3\n",
        "c = 10\n",
        "lr = .01\n",
        "d1 = a*b + c\n",
        "print(GradC) # we calculated this earlier\n",
        "print(f\"Original value of c: {c};  Value of a after adding a fraction of the gradient to it: {c-lr*gradc}\")\n",
        "c = c - lr*GradC\n",
        "d2 = a*b + c\n",
        "print(d1,d2)"
      ],
      "metadata": {
        "colab": {
          "base_uri": "https://localhost:8080/"
        },
        "id": "GHxWFLYYJ8ue",
        "outputId": "bd17d5bc-34fb-4f15-e68b-60818306c2e3"
      },
      "execution_count": null,
      "outputs": [
        {
          "output_type": "stream",
          "name": "stdout",
          "text": [
            "0.9999999999976694\n",
            "Original value of c: 10;  Value of a after adding a fraction of the gradient to it: 9.990000000000023\n",
            "4 3.9900000000000233\n"
          ]
        }
      ]
    },
    {
      "cell_type": "markdown",
      "source": [
        "###### *The output goes **down** when we **change knob c** by subtracting a small fraction of the gradient **GradC**.*"
      ],
      "metadata": {
        "id": "lLLz06L0KFBo"
      }
    },
    {
      "cell_type": "markdown",
      "source": [
        "##### **Finding so far:** The function output **decreased** when we **individually changed** each variable by subtracting a **fraction of the gradient** with respect to that variable"
      ],
      "metadata": {
        "id": "M9npwyQbNuNh"
      }
    },
    {
      "cell_type": "markdown",
      "source": [
        "\n",
        "\n",
        "\n",
        "---\n",
        "\n",
        "\n",
        "\n",
        "#### In Summary if we want to know which direction to tweak all the variables (knobs) of a function to **increase** the output of a function, we just need to **add to each variable**, **the gradient** (or a fraction of it) of the function **with respect to that variable**.\n",
        "\n",
        "#### Conversely, to **decrease** the output of a function, we just need to **subtract** from  each variable, the **gradient** (or a fraction of it) of the function **with respect to that variable.**\n",
        "\n",
        "#### The gradient of a variable has two pieces of information to increase (or decrease) a function's output. It contains the direction to tweak a variable, and how much to tweak a variable.\n",
        "\n",
        "#### This fact is very useful when we train a neural network, which is essentially a function with many knobs (variables). During training, the output of a neural network is passed as input to another function, often called the loss function, which compares how far off the output of the neural network is from the true (ground truth) value.\n",
        "\n",
        "#### The lower the output of the loss function, the better. So we want to tweak the variables of the neural network so that the loss function output is lowered. We achieve this by subtracting the gradient (a fraction of it) of the loss function (with respect to each variable) from each variable. Once trained, the loss function is discared - only the neural network is used.\n",
        "\n",
        "#### The gradient for each variable is found by an efficient algorithm called **backpropagation**, which essentially does what we did in this notebook\n",
        "\n",
        "#### The update of each variable with the gradient is done by an optimization algorithm called **gradient descent**.\n"
      ],
      "metadata": {
        "id": "W3mMT_Q_O0-h"
      }
    },
    {
      "cell_type": "markdown",
      "source": [
        "\n",
        "\n",
        "---\n",
        "\n",
        "**Additional notes.** The above argument applies no matter how many knobs a function has, or how complex the function is. For instance, in the example below, the output function depends both directly on some knobs but also another function which in turn depends on few other knobs that are not directly present in the output function. The same observations as above applies."
      ],
      "metadata": {
        "id": "idlba-bWBIh1"
      }
    },
    {
      "cell_type": "code",
      "source": [
        "h = .1\n",
        "a = 1\n",
        "b = -1\n",
        "c = -2\n",
        "d = 3\n",
        "e = -2\n",
        "f = d*e*c\n",
        "d1 = a*b*f # d is only used indirectly through f in the output function\n",
        "print(d,d+h)\n",
        "d = d + h\n",
        "f = d*e*c\n",
        "d2 = a*b*f\n",
        "print(d1,d2)"
      ],
      "metadata": {
        "colab": {
          "base_uri": "https://localhost:8080/"
        },
        "id": "pAodIr_lBlwV",
        "outputId": "828f6274-6fff-4a1f-9680-66f643988e4f"
      },
      "execution_count": 180,
      "outputs": [
        {
          "output_type": "stream",
          "name": "stdout",
          "text": [
            "3 3.1\n",
            "-12 -12.4\n"
          ]
        }
      ]
    },
    {
      "cell_type": "code",
      "source": [
        "GradD = (d2-d1)/h\n",
        "GradD"
      ],
      "metadata": {
        "colab": {
          "base_uri": "https://localhost:8080/"
        },
        "id": "QuPgDw1jBp07",
        "outputId": "ff31ea73-a1dc-4334-d348-a890fb1fa7cb"
      },
      "execution_count": 181,
      "outputs": [
        {
          "output_type": "execute_result",
          "data": {
            "text/plain": [
              "-4.0000000000000036"
            ]
          },
          "metadata": {},
          "execution_count": 181
        }
      ]
    },
    {
      "cell_type": "code",
      "source": [
        "h = .1\n",
        "a = 1\n",
        "b = -1\n",
        "c = -2\n",
        "d = 3\n",
        "e = -2\n",
        "lr = .01\n",
        "f = d*e*c\n",
        "d1 = a*b*f\n",
        "print(d,d + lr*GradD)\n",
        "d = d + lr*GradD\n",
        "f = d*e*c\n",
        "d2 = a*b*f\n",
        "print(d1,d2)"
      ],
      "metadata": {
        "colab": {
          "base_uri": "https://localhost:8080/"
        },
        "id": "ItP3amp4BxGs",
        "outputId": "9afb7448-381d-4f34-8a52-a7a85766925c"
      },
      "execution_count": 182,
      "outputs": [
        {
          "output_type": "stream",
          "name": "stdout",
          "text": [
            "3 2.96\n",
            "-12 -11.84\n"
          ]
        }
      ]
    },
    {
      "cell_type": "code",
      "source": [
        "h = .1\n",
        "a = 1\n",
        "b = -1\n",
        "c = -2\n",
        "d = 3\n",
        "e = -2\n",
        "lr = .01\n",
        "f = d*e*c\n",
        "d1 = a*b*f\n",
        "print(d,d - lr*GradD)\n",
        "d = d - lr*GradD\n",
        "f = d*e*c\n",
        "d2 = a*b*f\n",
        "print(d1,d2)"
      ],
      "metadata": {
        "colab": {
          "base_uri": "https://localhost:8080/"
        },
        "id": "EdNqgKbABsVJ",
        "outputId": "1706dd5b-5fef-43ea-e412-7be1def698b8"
      },
      "execution_count": 183,
      "outputs": [
        {
          "output_type": "stream",
          "name": "stdout",
          "text": [
            "3 3.04\n",
            "-12 -12.16\n"
          ]
        }
      ]
    }
  ]
}