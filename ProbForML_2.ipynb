{
  "nbformat": 4,
  "nbformat_minor": 0,
  "metadata": {
    "colab": {
      "name": "ProbForML_2.ipynb",
      "provenance": [],
      "include_colab_link": true
    },
    "kernelspec": {
      "name": "python3",
      "display_name": "Python 3"
    },
    "language_info": {
      "name": "python"
    }
  },
  "cells": [
    {
      "cell_type": "markdown",
      "metadata": {
        "id": "view-in-github",
        "colab_type": "text"
      },
      "source": [
        "<a href=\"https://colab.research.google.com/github/taskswithcode/probability_for_ml_notebooks/blob/main/ProbForML_1.ipynb\" target=\"_parent\"><img src=\"https://colab.research.google.com/assets/colab-badge.svg\" alt=\"Open In Colab\"/></a>"
      ]
    },
    {
      "cell_type": "markdown",
      "source": [
        "**Notebook for Probability for Machine Learning - Part 1**"
      ],
      "metadata": {
        "id": "yqtpHlbk2ehd"
      }
    },
    {
      "cell_type": "markdown",
      "source": [
        "### Experimental observations from an experiment\n"
      ],
      "metadata": {
        "id": "Tx02cE-HC6il"
      }
    },
    {
      "cell_type": "code",
      "source": [
        "numbers = [2, 4, 3, 1, 1, 1, 6, 5, 1, 1, 3, 2, 5, 4, 1, 5, 3, 2, 1, 1]\n",
        "len(numbers)"
      ],
      "metadata": {
        "id": "GbbcmyzxDEzC",
        "outputId": "1e644544-c095-43b2-9498-4c775b3baa9d",
        "colab": {
          "base_uri": "https://localhost:8080/"
        }
      },
      "execution_count": null,
      "outputs": [
        {
          "output_type": "execute_result",
          "data": {
            "text/plain": [
              "20"
            ]
          },
          "metadata": {},
          "execution_count": 8
        }
      ]
    },
    {
      "cell_type": "code",
      "source": [
        "This is a notebook link for the video \"Probability for Machine Learning - 1\": https://youtu.be/6SrH0OQca7Y"
      ],
      "metadata": {
        "id": "fdH4Cy1QJWFD"
      },
      "execution_count": null,
      "outputs": []
    },
    {
      "cell_type": "markdown",
      "source": [
        "### 1. Computing average the well known way"
      ],
      "metadata": {
        "id": "2PVhRppdQmdp"
      }
    },
    {
      "cell_type": "code",
      "source": [
        "def average(numbers):\n",
        "    return sum(numbers) / len(numbers)"
      ],
      "metadata": {
        "id": "4ZEz5mlaDpxY"
      },
      "execution_count": null,
      "outputs": []
    },
    {
      "cell_type": "code",
      "source": [
        "print(f\"Average as sum of observations divided by count of observations: {average(numbers)}\")"
      ],
      "metadata": {
        "id": "QuvVjX6KDwZN",
        "outputId": "6712d330-a8bd-47b4-a2f3-dbbb3abf136d",
        "colab": {
          "base_uri": "https://localhost:8080/"
        }
      },
      "execution_count": null,
      "outputs": [
        {
          "output_type": "stream",
          "name": "stdout",
          "text": [
            "Average as sum of observations divided by count of observations: 2.6\n"
          ]
        }
      ]
    },
    {
      "cell_type": "markdown",
      "source": [
        "### 2. Computing average by first computing the sample probability distribution"
      ],
      "metadata": {
        "id": "f5QgvnGeIikv"
      }
    },
    {
      "cell_type": "code",
      "source": [
        "from collections import Counter\n",
        "def average_using_prob(numbers):\n",
        "    counter = Counter(numbers)\n",
        "    total_numbers = len(numbers)\n",
        "    frequencies = {x: count for x, count in counter.items()}\n",
        "\n",
        "    sample_prob = [ float(freq)/total_numbers  for x, freq in frequencies.items()]\n",
        "\n",
        "    # compute the weighted average\n",
        "    weighted_average = sum(x * (freq / total_numbers) for x, freq in frequencies.items())\n",
        "    return frequencies,sample_prob,weighted_average"
      ],
      "metadata": {
        "id": "QcDhSZfisi46"
      },
      "execution_count": null,
      "outputs": []
    },
    {
      "cell_type": "code",
      "source": [
        "frequencies,sample_prob,weighted_average = average_using_prob(numbers)\n",
        "print(f\"Event frequences:{frequencies}\")\n",
        "print(f\"Sample probability distribution: {sample_prob}\")\n",
        "print(f\"Event probabilities add up to: {sum(sample_prob)}\")\n",
        "print(f\"Average by weighting each observation by its probability: {round(weighted_average,1)}\")"
      ],
      "metadata": {
        "id": "wSDpZGsUhkOS",
        "outputId": "8fbbe490-fc41-491f-d0aa-ffb6be2da397",
        "colab": {
          "base_uri": "https://localhost:8080/"
        }
      },
      "execution_count": null,
      "outputs": [
        {
          "output_type": "stream",
          "name": "stdout",
          "text": [
            "Event frequences:{2: 3, 4: 2, 3: 3, 1: 8, 6: 1, 5: 3}\n",
            "Sample probability distribution: [0.15, 0.1, 0.15, 0.4, 0.05, 0.15]\n",
            "Event probabilities add up to: 1.0\n",
            "Average by weighting each observation by its probability: 2.6\n"
          ]
        }
      ]
    }
  ]
}
